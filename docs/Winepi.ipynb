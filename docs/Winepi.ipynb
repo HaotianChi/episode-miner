{
 "cells": [
  {
   "cell_type": "markdown",
   "metadata": {
    "collapsed": true
   },
   "source": [
    "# Winepi\n",
    "A partial implementation of Winepi algorithm described by Mannila, Toivonen and Verkamo in *Discovery of Frequent Episodes in Event Sequences*, 1997."
   ]
  },
  {
   "cell_type": "code",
   "execution_count": 1,
   "metadata": {
    "collapsed": false
   },
   "outputs": [],
   "source": [
    "from episode_miner import Event, EventSequence, EventSequences, Episode, Episodes\n",
    "from pprint import pprint"
   ]
  },
  {
   "cell_type": "code",
   "execution_count": 2,
   "metadata": {
    "collapsed": false,
    "scrolled": true
   },
   "outputs": [
    {
     "data": {
      "text/plain": [
       "[('b'), ('a'), ('b', 'a'), ('a', 'b'), ('a', 'a'), ('a', 'b', 'a')]"
      ]
     },
     "execution_count": 2,
     "metadata": {},
     "output_type": "execute_result"
    }
   ],
   "source": [
    "sequence_of_events = (Event('a', 1), Event('b', 2), Event('a', 3), Event('a', 5), Event('b', 8))\n",
    "event_sequences = EventSequences(sequence_of_events=sequence_of_events, start=0, end=9)\n",
    "\n",
    "frequent_episodes = event_sequences.find_serial_episodes(window_width=5, \n",
    "                                                         min_frequency=0.2, \n",
    "                                                         only_full_windows=False, \n",
    "                                                         allow_intermediate_events=True)\n",
    "frequent_episodes"
   ]
  },
  {
   "cell_type": "markdown",
   "metadata": {},
   "source": [
    "All episodes in output of ```find_serial_episodes``` are equipped with ```abs_support```, ```rel_support``` and ```allow_intermediate_events``` attributes."
   ]
  },
  {
   "cell_type": "code",
   "execution_count": 3,
   "metadata": {
    "collapsed": false
   },
   "outputs": [
    {
     "data": {
      "text/plain": [
       "(6, 0.46153846153846156, True)"
      ]
     },
     "execution_count": 3,
     "metadata": {},
     "output_type": "execute_result"
    }
   ],
   "source": [
    "frequent_episodes[3].abs_support, frequent_episodes[3].rel_support, frequent_episodes[3].allow_intermediate_events"
   ]
  },
  {
   "cell_type": "markdown",
   "metadata": {},
   "source": [
    "## Support\n",
    "Equip episodes with support (frequency) information."
   ]
  },
  {
   "cell_type": "code",
   "execution_count": 4,
   "metadata": {
    "collapsed": false
   },
   "outputs": [
    {
     "data": {
      "text/plain": [
       "(('a'), 9, 0.6923076923076923, True)"
      ]
     },
     "execution_count": 4,
     "metadata": {},
     "output_type": "execute_result"
    }
   ],
   "source": [
    "episodes = Episodes((Episode(('a',)), Episode(('a', 'b'))))\n",
    "episodes = event_sequences.support(episodes=episodes,\n",
    "                                   window_width=5,\n",
    "                                   only_full_windows=False, \n",
    "                                   allow_intermediate_events=True)\n",
    "episodes[0], episodes[0].abs_support, episodes[0].rel_support, episodes[0].allow_intermediate_events"
   ]
  },
  {
   "cell_type": "markdown",
   "metadata": {},
   "source": [
    "The defaults are\n",
    "```python \n",
    "only_full_windows = False\n",
    "allow_intermediate_events = episodes[0].allow_intermediate_events\n",
    "```\n",
    "It is more efficient to find the supports for list of episodes than for each episode separetely. \n",
    "\n",
    "Get the absolute support of episodes."
   ]
  },
  {
   "cell_type": "code",
   "execution_count": 5,
   "metadata": {
    "collapsed": false
   },
   "outputs": [
    {
     "data": {
      "text/plain": [
       "[9, 6]"
      ]
     },
     "execution_count": 5,
     "metadata": {},
     "output_type": "execute_result"
    }
   ],
   "source": [
    "episodes.abs_support()"
   ]
  },
  {
   "cell_type": "markdown",
   "metadata": {},
   "source": [
    "Get relative support of episodes."
   ]
  },
  {
   "cell_type": "code",
   "execution_count": 6,
   "metadata": {
    "collapsed": false
   },
   "outputs": [
    {
     "data": {
      "text/plain": [
       "[0.6923076923076923, 0.46153846153846156]"
      ]
     },
     "execution_count": 6,
     "metadata": {},
     "output_type": "execute_result"
    }
   ],
   "source": [
    "episodes.rel_support()"
   ]
  },
  {
   "cell_type": "markdown",
   "metadata": {},
   "source": [
    "\n",
    "## Only full windows vs all windows\n",
    "The default is \n",
    "```python\n",
    "only_full_windows=False\n",
    "```\n",
    "If True, the start of the first window is at the start of the sequence of events and the end of the last window is at the end of the sequence of events.\n",
    "\n",
    "If False, the end of the first window is at the start of the sequence of events and the start of the last window is at the end of the sequence of events."
   ]
  },
  {
   "cell_type": "code",
   "execution_count": 7,
   "metadata": {
    "collapsed": false
   },
   "outputs": [
    {
     "name": "stdout",
     "output_type": "stream",
     "text": [
      "Full windows: [('b',), ('c',), ('a',), ('b', 'c'), ('a', 'b')]\n",
      "All windows:  [('b',), ('c',), ('a',)]\n"
     ]
    }
   ],
   "source": [
    "sequence_of_events = (Event('a', 0), Event('b', 4), Event('c', 7))\n",
    "event_sequences = EventSequences(sequence_of_events=sequence_of_events, start=0, end=9)\n",
    "\n",
    "frequent_episodes = event_sequences.find_serial_episodes(window_width=5, \n",
    "                                                         min_frequency=0.2, \n",
    "                                                         only_full_windows=True)\n",
    "print('Full windows:', frequent_episodes)\n",
    "frequent_episodes = event_sequences.find_serial_episodes(window_width=5, \n",
    "                                                         min_frequency=0.2, \n",
    "                                                         only_full_windows=False)\n",
    "print('All windows: ', frequent_episodes)"
   ]
  },
  {
   "cell_type": "markdown",
   "metadata": {},
   "source": [
    "In case of full windows the Winepi frequency of episodes near the start or end of the event sequence is reduced, but the number of all windows is smaller and therefore the relative frequency of episodes is increased."
   ]
  },
  {
   "cell_type": "markdown",
   "metadata": {},
   "source": [
    "## Allow intermediate events vs no intermediate events\n",
    "An event ```B``` is an intermediate event for events ```A``` and ```C``` if \n",
    "\n",
    "    time of A < time of B < time of C.\n",
    "\n",
    "The default is \n",
    "\n",
    "```python \n",
    "allow_intermediate_events = True\n",
    "```\n",
    "In the next example 2nd and 3rd event have the same time and the only episode which has an intermediate event is ```('a', 'd')```."
   ]
  },
  {
   "cell_type": "code",
   "execution_count": 8,
   "metadata": {
    "collapsed": false
   },
   "outputs": [
    {
     "name": "stdout",
     "output_type": "stream",
     "text": [
      "No intermediate events:\n",
      "[('b',),\n",
      " ('d',),\n",
      " ('c',),\n",
      " ('a',),\n",
      " ('b', 'd'),\n",
      " ('c', 'd'),\n",
      " ('a', 'b'),\n",
      " ('a', 'c'),\n",
      " ('a', 'b', 'd'),\n",
      " ('a', 'c', 'd')]\n",
      "Allow intermediate events:\n",
      "[('b',),\n",
      " ('d',),\n",
      " ('c',),\n",
      " ('a',),\n",
      " ('b', 'd'),\n",
      " ('c', 'd'),\n",
      " ('a', 'b'),\n",
      " ('a', 'd'),\n",
      " ('a', 'c'),\n",
      " ('a', 'b', 'd'),\n",
      " ('a', 'c', 'd')]\n"
     ]
    }
   ],
   "source": [
    "sequence_of_events = (Event('a', 0), Event('b', 2), Event('c', 2), Event('d', 3))\n",
    "event_sequences = EventSequences(sequence_of_events=sequence_of_events, start=0, end=6)\n",
    "\n",
    "print('No intermediate events:')\n",
    "frequent_episodes = event_sequences.find_serial_episodes(window_width=4, \n",
    "                                                         min_frequency=0.1, \n",
    "                                                         allow_intermediate_events=False)\n",
    "pprint(frequent_episodes)\n",
    "print('Allow intermediate events:')\n",
    "frequent_episodes = event_sequences.find_serial_episodes(window_width=4, \n",
    "                                                         min_frequency=0.1, \n",
    "                                                         allow_intermediate_events=True)\n",
    "pprint(frequent_episodes)"
   ]
  },
  {
   "cell_type": "markdown",
   "metadata": {},
   "source": [
    "In the next example \"no intermediate events\" version finds only episodes of length one, but \"allow intermediate events\" version discovers the pattern."
   ]
  },
  {
   "cell_type": "code",
   "execution_count": 9,
   "metadata": {
    "collapsed": false
   },
   "outputs": [
    {
     "name": "stdout",
     "output_type": "stream",
     "text": [
      "No intermediate events:\n",
      "[('e',), ('b',), ('d',), ('c',), ('a',)]\n",
      "\n",
      "Allow intermediate events:\n",
      "[('e',),\n",
      " ('b',),\n",
      " ('d',),\n",
      " ('c',),\n",
      " ('a',),\n",
      " ('b', 'e'),\n",
      " ('b', 'd'),\n",
      " ('b', 'a'),\n",
      " ('d', 'b'),\n",
      " ('c', 'b'),\n",
      " ('a', 'b')]\n"
     ]
    }
   ],
   "source": [
    "sequence_of_events = (Event('a', 1), Event('c',  2), Event('b',  3), Event('c',  4), \n",
    "                      Event('a', 5), Event('d',  6), Event('b',  7), Event('d',  8), \n",
    "                      Event('a', 9), Event('e', 10), Event('b', 11), Event('e', 12)) \n",
    "event_sequences = EventSequences(sequence_of_events=sequence_of_events, start=0, end=13)\n",
    "\n",
    "frequent_episodes = event_sequences.find_serial_episodes(window_width=4, \n",
    "                                                         min_frequency=0.2, \n",
    "                                                         allow_intermediate_events=False)\n",
    "print('No intermediate events:')\n",
    "pprint(frequent_episodes)\n",
    "\n",
    "frequent_episodes = event_sequences.find_serial_episodes(window_width=4, \n",
    "                                                         min_frequency=0.2, \n",
    "                                                         allow_intermediate_events=True)\n",
    "print('\\nAllow intermediate events:')\n",
    "pprint(frequent_episodes)"
   ]
  }
 ],
 "metadata": {
  "anaconda-cloud": {},
  "kernelspec": {
   "display_name": "Python [default]",
   "language": "python",
   "name": "python3"
  },
  "language_info": {
   "codemirror_mode": {
    "name": "ipython",
    "version": 3
   },
   "file_extension": ".py",
   "mimetype": "text/x-python",
   "name": "python",
   "nbconvert_exporter": "python",
   "pygments_lexer": "ipython3",
   "version": "3.5.2"
  }
 },
 "nbformat": 4,
 "nbformat_minor": 0
}
