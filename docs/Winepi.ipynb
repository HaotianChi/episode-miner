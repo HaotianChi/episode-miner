{
 "cells": [
  {
   "cell_type": "markdown",
   "metadata": {
    "collapsed": true
   },
   "source": [
    "# Winepi\n",
    "A partial implementation of Winepi algorithm described by Mannila, Toivonen and Verkamo in *Discovery of Frequent Episodes in Event Sequences*, 1997."
   ]
  },
  {
   "cell_type": "code",
   "execution_count": 1,
   "metadata": {
    "collapsed": true
   },
   "outputs": [],
   "source": [
    "from episode_miner import Event, EventSequence, collection_of_frequent_episodes\n",
    "from pprint import pprint"
   ]
  },
  {
   "cell_type": "code",
   "execution_count": 2,
   "metadata": {
    "collapsed": false
   },
   "outputs": [
    {
     "name": "stdout",
     "output_type": "stream",
     "text": [
      "[9 ('a',),\n",
      " 10 ('b',),\n",
      " 5 ('a', 'a'),\n",
      " 6 ('a', 'b'),\n",
      " 4 ('b', 'a'),\n",
      " 3 ('a', 'b', 'a')]\n"
     ]
    }
   ],
   "source": [
    "sequence_of_events = (Event('a', 1), Event('b', 2), Event('a', 3), Event('a', 5), Event('b', 8))\n",
    "event_sequence = EventSequence(sequence_of_events=sequence_of_events, start=0, end=9)\n",
    "\n",
    "frequent_episodes = collection_of_frequent_episodes(event_sequence, 5, 0.2)\n",
    "pprint(frequent_episodes)"
   ]
  },
  {
   "cell_type": "markdown",
   "metadata": {},
   "source": [
    "## Only full windows vs all windows"
   ]
  },
  {
   "cell_type": "code",
   "execution_count": 3,
   "metadata": {
    "collapsed": false
   },
   "outputs": [
    {
     "name": "stdout",
     "output_type": "stream",
     "text": [
      "[1 ('a',), 4 ('b',), 1 ('c',), 1 ('a', 'b'), 1 ('b', 'c')]\n",
      "[5 ('a',), 5 ('b',), 5 ('c',)]\n"
     ]
    }
   ],
   "source": [
    "sequence_of_events = (Event('a', 0), Event('b', 4), Event('c', 7))\n",
    "event_sequence = EventSequence(sequence_of_events=sequence_of_events, start=0, end=8)\n",
    "\n",
    "frequent_episodes = collection_of_frequent_episodes(event_sequence, 5, 0.2, only_full_windows=True)\n",
    "pprint(frequent_episodes)\n",
    "frequent_episodes = collection_of_frequent_episodes(event_sequence, 5, 0.2, only_full_windows=False)\n",
    "pprint(frequent_episodes)"
   ]
  },
  {
   "cell_type": "markdown",
   "metadata": {},
   "source": [
    "## Gaps skipping vs no gap skipping\n",
    "Doesn't work yet."
   ]
  },
  {
   "cell_type": "code",
   "execution_count": 4,
   "metadata": {
    "collapsed": false
   },
   "outputs": [
    {
     "name": "stdout",
     "output_type": "stream",
     "text": [
      "[4 ('a',), 4 ('b',), 2 ('a', 'b')]\n",
      "[4 ('a',), 4 ('b',), 2 ('a', 'b')]\n"
     ]
    }
   ],
   "source": [
    "sequence_of_events = (Event('a', 0), Event('b', 2))\n",
    "event_sequence = EventSequence(sequence_of_events=sequence_of_events, start=0, end=6)\n",
    "\n",
    "frequent_episodes = collection_of_frequent_episodes(event_sequence, 4, 0.2, gaps_skipping=True)\n",
    "pprint(frequent_episodes)\n",
    "frequent_episodes = collection_of_frequent_episodes(event_sequence, 4, 0.2, gaps_skipping=False)\n",
    "pprint(frequent_episodes)"
   ]
  }
 ],
 "metadata": {
  "kernelspec": {
   "display_name": "Python 3",
   "language": "python",
   "name": "python3"
  },
  "language_info": {
   "codemirror_mode": {
    "name": "ipython",
    "version": 3
   },
   "file_extension": ".py",
   "mimetype": "text/x-python",
   "name": "python",
   "nbconvert_exporter": "python",
   "pygments_lexer": "ipython3",
   "version": "3.4.4"
  }
 },
 "nbformat": 4,
 "nbformat_minor": 0
}
