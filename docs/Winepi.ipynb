{
 "cells": [
  {
   "cell_type": "markdown",
   "metadata": {
    "collapsed": true
   },
   "source": [
    "# Winepi"
   ]
  },
  {
   "cell_type": "code",
   "execution_count": 1,
   "metadata": {
    "collapsed": true
   },
   "outputs": [],
   "source": [
    "from episode_miner import EventTagger, EventText, EventSequence"
   ]
  },
  {
   "cell_type": "markdown",
   "metadata": {},
   "source": [
    "Use [EventTagger](docs/EventTagger.ipynb) and [EventText](docs/EventText.ipynb) to find the events in text."
   ]
  },
  {
   "cell_type": "code",
   "execution_count": 2,
   "metadata": {
    "collapsed": false
   },
   "outputs": [],
   "source": [
    "event_vocabulary = [{'term': 'üks'}, \n",
    "                    {'term': 'kaks'}]    \n",
    "event_tagger = EventTagger(event_vocabulary, search_method='naive', conflict_resolving_strategy='ALL')\n",
    "event_text = EventText('üks kaks üks kolm üks kaks üks kaks kolm kaks kolm üks kaks', event_tagger=event_tagger)"
   ]
  },
  {
   "cell_type": "markdown",
   "metadata": {},
   "source": [
    "Now extract from ``event_text`` event sequence. That is the main input for the Winepi algorithm."
   ]
  },
  {
   "cell_type": "code",
   "execution_count": 3,
   "metadata": {
    "collapsed": false
   },
   "outputs": [
    {
     "name": "stdout",
     "output_type": "stream",
     "text": [
      "0\n",
      "34\n",
      "[(üks, 0), (kaks, 2), (üks, 4), (üks, 11), (kaks, 13), (üks, 15), (kaks, 17), (kaks, 24), (üks, 31), (kaks, 33)]\n"
     ]
    }
   ],
   "source": [
    "event_sequence = EventSequence(event_text=event_text, classificator='term', determine_event_time_by='char')\n",
    "\n",
    "print(event_sequence.start)\n",
    "print(event_sequence.end)\n",
    "print(event_sequence.sequence_of_events)"
   ]
  },
  {
   "cell_type": "markdown",
   "metadata": {},
   "source": [
    "Apply Winepi algorithm to find frequent serial episodes in event sequence.\n",
    "\n",
    "..."
   ]
  }
 ],
 "metadata": {
  "kernelspec": {
   "display_name": "Python 3",
   "language": "python",
   "name": "python3"
  },
  "language_info": {
   "codemirror_mode": {
    "name": "ipython",
    "version": 3
   },
   "file_extension": ".py",
   "mimetype": "text/x-python",
   "name": "python",
   "nbconvert_exporter": "python",
   "pygments_lexer": "ipython3",
   "version": "3.4.4"
  }
 },
 "nbformat": 4,
 "nbformat_minor": 0
}
