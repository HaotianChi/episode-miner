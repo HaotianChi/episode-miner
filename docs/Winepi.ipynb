{
 "cells": [
  {
   "cell_type": "markdown",
   "metadata": {
    "collapsed": true
   },
   "source": [
    "# Winepi\n",
    "A partial implementation of Winepi algorithm described by Mannila, Toivonen and Verkamo in *Discovery of Frequent Episodes in Event Sequences*, 1997."
   ]
  },
  {
   "cell_type": "code",
   "execution_count": 1,
   "metadata": {
    "collapsed": false
   },
   "outputs": [],
   "source": [
    "from episode_miner import Event, EventSequence, EventSequences, Episode, Episodes\n",
    "from pprint import pprint"
   ]
  },
  {
   "cell_type": "code",
   "execution_count": 2,
   "metadata": {
    "collapsed": false,
    "scrolled": true
   },
   "outputs": [
    {
     "data": {
      "text/plain": [
       "[('a'), ('b'), ('a', 'a'), ('a', 'b'), ('b', 'a'), ('a', 'b', 'a')]"
      ]
     },
     "execution_count": 2,
     "metadata": {},
     "output_type": "execute_result"
    }
   ],
   "source": [
    "sequence_of_events = (Event('a', 1), Event('b', 2), Event('a', 3), Event('a', 5), Event('b', 8))\n",
    "event_sequences = EventSequences(sequence_of_events=sequence_of_events, start=0, end=9)\n",
    "\n",
    "frequent_episodes = event_sequences.find_serial_episodes(window_width=5, \n",
    "                                                         min_frequency=0.2, \n",
    "                                                         only_full_windows=False, \n",
    "                                                         allow_intermediate_events=True)\n",
    "frequent_episodes"
   ]
  },
  {
   "cell_type": "markdown",
   "metadata": {},
   "source": [
    "All episodes in output of ```find_serial_episodes``` are equipped with ```abs_support```, ```rel_support``` and ```allow_intermediate_events``` attributes."
   ]
  },
  {
   "cell_type": "code",
   "execution_count": 3,
   "metadata": {
    "collapsed": false
   },
   "outputs": [
    {
     "data": {
      "text/plain": [
       "(6, 0.46153846153846156, True)"
      ]
     },
     "execution_count": 3,
     "metadata": {},
     "output_type": "execute_result"
    }
   ],
   "source": [
    "frequent_episodes[3].abs_support, frequent_episodes[3].rel_support, frequent_episodes[3].allow_intermediate_events"
   ]
  },
  {
   "cell_type": "markdown",
   "metadata": {},
   "source": [
    "## Support\n",
    "Equip episodes with support information."
   ]
  },
  {
   "cell_type": "code",
   "execution_count": 4,
   "metadata": {
    "collapsed": false
   },
   "outputs": [
    {
     "data": {
      "text/plain": [
       "(('a'), 9, 0.6923076923076923, True)"
      ]
     },
     "execution_count": 4,
     "metadata": {},
     "output_type": "execute_result"
    }
   ],
   "source": [
    "episodes = Episodes((Episode(('a',)), Episode(('a', 'b'))))\n",
    "episodes = event_sequences.support(episodes=episodes,\n",
    "                        window_width=5,\n",
    "                        only_full_windows=False, \n",
    "                        allow_intermediate_events=True)\n",
    "episodes[0], episodes[0].abs_support, episodes[0].rel_support, episodes[0].allow_intermediate_events"
   ]
  },
  {
   "cell_type": "markdown",
   "metadata": {},
   "source": [
    "The defaults are\n",
    "```python \n",
    "only_full_windows = False\n",
    "allow_intermediate_events = episodes[0].allow_intermediate_events\n",
    "```\n",
    "It is more efficient to find the supports for list of episodes than for each episode separetely. \n",
    "\n",
    "Get absolute support of episodes."
   ]
  },
  {
   "cell_type": "code",
   "execution_count": 5,
   "metadata": {
    "collapsed": false
   },
   "outputs": [
    {
     "data": {
      "text/plain": [
       "[9, 6]"
      ]
     },
     "execution_count": 5,
     "metadata": {},
     "output_type": "execute_result"
    }
   ],
   "source": [
    "episodes.abs_support()"
   ]
  },
  {
   "cell_type": "markdown",
   "metadata": {},
   "source": [
    "Get relative support of episodes."
   ]
  },
  {
   "cell_type": "code",
   "execution_count": 6,
   "metadata": {
    "collapsed": false
   },
   "outputs": [
    {
     "data": {
      "text/plain": [
       "[0.6923076923076923, 0.46153846153846156]"
      ]
     },
     "execution_count": 6,
     "metadata": {},
     "output_type": "execute_result"
    }
   ],
   "source": [
    "episodes.rel_support()"
   ]
  },
  {
   "cell_type": "markdown",
   "metadata": {},
   "source": [
    "\n",
    "## Only full windows vs all windows\n",
    "The default is \n",
    "```python\n",
    "only_full_windows=False\n",
    "```"
   ]
  },
  {
   "cell_type": "code",
   "execution_count": 7,
   "metadata": {
    "collapsed": false
   },
   "outputs": [
    {
     "name": "stdout",
     "output_type": "stream",
     "text": [
      "Full windows: [('a',), ('c',), ('b',), ('a', 'b'), ('b', 'c')]\n",
      "All windows:  [('a',), ('c',), ('b',)]\n"
     ]
    }
   ],
   "source": [
    "sequence_of_events = (Event('a', 0), Event('b', 4), Event('c', 7))\n",
    "event_sequences = EventSequences(sequence_of_events=sequence_of_events, start=0, end=9)\n",
    "\n",
    "frequent_episodes = event_sequences.find_serial_episodes(window_width=5, \n",
    "                                                         min_frequency=0.2, \n",
    "                                                         only_full_windows=True)\n",
    "print('Full windows:', frequent_episodes)\n",
    "frequent_episodes = event_sequences.find_serial_episodes(window_width=5, \n",
    "                                                         min_frequency=0.2, \n",
    "                                                         only_full_windows=False)\n",
    "print('All windows: ', frequent_episodes)"
   ]
  },
  {
   "cell_type": "markdown",
   "metadata": {},
   "source": [
    "In case of full windows the Winepi frequency of episodes near the start or end of the event sequence is reduced, but the number of all windows is smaller and therefore the relative frequency of episodes is increased."
   ]
  },
  {
   "cell_type": "markdown",
   "metadata": {},
   "source": [
    "## Intermediate events vs no intermediate events\n",
    "An intermediate event is one or more events at the same time.\n",
    "\n",
    "The default is \n",
    "\n",
    "```python \n",
    "no_intermediate_events=False\n",
    "```\n",
    "In the next example, the only episode which has an intermediate event is ```('a', 'd')```."
   ]
  },
  {
   "cell_type": "code",
   "execution_count": 8,
   "metadata": {
    "collapsed": false
   },
   "outputs": [
    {
     "name": "stdout",
     "output_type": "stream",
     "text": [
      "Allow intermediate events:\n",
      "[('a',),\n",
      " ('c',),\n",
      " ('d',),\n",
      " ('b',),\n",
      " ('a', 'c'),\n",
      " ('a', 'b'),\n",
      " ('c', 'd'),\n",
      " ('b', 'd'),\n",
      " ('a', 'c', 'd'),\n",
      " ('a', 'b', 'd')]\n",
      "No intermediate events:\n",
      "[('a',),\n",
      " ('c',),\n",
      " ('d',),\n",
      " ('b',),\n",
      " ('a', 'c'),\n",
      " ('a', 'd'),\n",
      " ('a', 'b'),\n",
      " ('c', 'd'),\n",
      " ('b', 'd'),\n",
      " ('a', 'c', 'd'),\n",
      " ('a', 'b', 'd')]\n"
     ]
    }
   ],
   "source": [
    "sequence_of_events = (Event('a', 0), Event('b', 2), Event('c', 2), Event('d', 3))\n",
    "event_sequences = EventSequences(sequence_of_events=sequence_of_events, start=0, end=6)\n",
    "\n",
    "print('Allow intermediate events:')\n",
    "frequent_episodes = event_sequences.find_serial_episodes(window_width=4, \n",
    "                                                         min_frequency=0.1, \n",
    "                                                         allow_intermediate_events=False)\n",
    "pprint(frequent_episodes)\n",
    "print('No intermediate events:')\n",
    "frequent_episodes = event_sequences.find_serial_episodes(window_width=4, \n",
    "                                                         min_frequency=0.1, \n",
    "                                                         allow_intermediate_events=True)\n",
    "pprint(frequent_episodes)"
   ]
  },
  {
   "cell_type": "markdown",
   "metadata": {},
   "source": [
    "In the next example \"allow intermediate events\" version finds no pattern, but \"no intermediate events\" version returns even episodes which occur only once (e.g. ('d', 'b'))."
   ]
  },
  {
   "cell_type": "code",
   "execution_count": 9,
   "metadata": {
    "collapsed": false
   },
   "outputs": [
    {
     "name": "stdout",
     "output_type": "stream",
     "text": [
      "Alloow intermediate events:\n",
      "[('a',),\n",
      " ('e',),\n",
      " ('c',),\n",
      " ('d',),\n",
      " ('b',),\n",
      " ('a', 'b'),\n",
      " ('c', 'b'),\n",
      " ('d', 'b'),\n",
      " ('b', 'a'),\n",
      " ('b', 'e'),\n",
      " ('b', 'd')]\n",
      "\n",
      "No intermediate events:\n",
      "[('a',), ('e',), ('c',), ('d',), ('b',)]\n"
     ]
    }
   ],
   "source": [
    "sequence_of_events = (Event('a', 1), Event('c',  2), Event('b',  3), Event('c',  4), \n",
    "                      Event('a', 5), Event('d',  6), Event('b',  7), Event('d',  8), \n",
    "                      Event('a', 9), Event('e', 10), Event('b', 11), Event('e', 12)) \n",
    "event_sequences = EventSequences(sequence_of_events=sequence_of_events, start=0, end=13)\n",
    "\n",
    "frequent_episodes = event_sequences.find_serial_episodes(window_width=4, \n",
    "                                                         min_frequency=0.2, \n",
    "                                                         allow_intermediate_events=True)\n",
    "print('Alloow intermediate events:')\n",
    "pprint(frequent_episodes)\n",
    "frequent_episodes = event_sequences.find_serial_episodes(window_width=4, \n",
    "                                                         min_frequency=0.2, \n",
    "                                                         allow_intermediate_events=False)\n",
    "print('\\nNo intermediate events:')\n",
    "pprint(frequent_episodes)"
   ]
  }
 ],
 "metadata": {
  "kernelspec": {
   "display_name": "Python 3",
   "language": "python",
   "name": "python3"
  },
  "language_info": {
   "codemirror_mode": {
    "name": "ipython",
    "version": 3
   },
   "file_extension": ".py",
   "mimetype": "text/x-python",
   "name": "python",
   "nbconvert_exporter": "python",
   "pygments_lexer": "ipython3",
   "version": "3.4.4"
  }
 },
 "nbformat": 4,
 "nbformat_minor": 0
}
