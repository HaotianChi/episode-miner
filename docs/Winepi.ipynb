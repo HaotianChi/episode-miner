{
 "cells": [
  {
   "cell_type": "markdown",
   "metadata": {
    "collapsed": true
   },
   "source": [
    "# Winepi\n",
    "A partial implementation of Winepi algorithm described by Mannila, Toivonen and Verkamo in *Discovery of Frequent Episodes in Event Sequences*, 1997."
   ]
  },
  {
   "cell_type": "code",
   "execution_count": 1,
   "metadata": {
    "collapsed": false
   },
   "outputs": [],
   "source": [
    "from episode_miner import Event, EventSequence, Episode, find_sequential_episodes, abs_support, rel_support\n",
    "from pprint import pprint"
   ]
  },
  {
   "cell_type": "code",
   "execution_count": 2,
   "metadata": {
    "collapsed": false,
    "scrolled": true
   },
   "outputs": [
    {
     "data": {
      "text/plain": [
       "[9 ('a',),\n",
       " 10 ('b',),\n",
       " 5 ('a', 'a'),\n",
       " 6 ('a', 'b'),\n",
       " 4 ('b', 'a'),\n",
       " 3 ('a', 'b', 'a')]"
      ]
     },
     "execution_count": 2,
     "metadata": {},
     "output_type": "execute_result"
    }
   ],
   "source": [
    "sequence_of_events = (Event('a', 1), Event('b', 2), Event('a', 3), Event('a', 5), Event('b', 8))\n",
    "event_sequence = EventSequence(sequence_of_events=sequence_of_events, start=0, end=9)\n",
    "\n",
    "frequent_episodes = find_sequential_episodes(event_sequences=event_sequence,\n",
    "                                             window_width=5, \n",
    "                                             min_frequency=0.2, \n",
    "                                             only_full_windows=False, \n",
    "                                             allow_intermediate_events=True, )\n",
    "frequent_episodes"
   ]
  },
  {
   "cell_type": "markdown",
   "metadata": {},
   "source": [
    "All episodes in output of ```find_sequential_episodes``` are equipped with ```abs_support```, ```rel_support``` and ```allow_intermediate_events``` attributes."
   ]
  },
  {
   "cell_type": "code",
   "execution_count": 3,
   "metadata": {
    "collapsed": false
   },
   "outputs": [
    {
     "data": {
      "text/plain": [
       "(6, 0.46153846153846156, True)"
      ]
     },
     "execution_count": 3,
     "metadata": {},
     "output_type": "execute_result"
    }
   ],
   "source": [
    "frequent_episodes[3].abs_support, frequent_episodes[3].rel_support, frequent_episodes[3].allow_intermediate_events"
   ]
  },
  {
   "cell_type": "markdown",
   "metadata": {},
   "source": [
    "## Support\n",
    "Find absolute support for episodes. "
   ]
  },
  {
   "cell_type": "code",
   "execution_count": 4,
   "metadata": {
    "collapsed": false
   },
   "outputs": [
    {
     "data": {
      "text/plain": [
       "[9, 6]"
      ]
     },
     "execution_count": 4,
     "metadata": {},
     "output_type": "execute_result"
    }
   ],
   "source": [
    "abs_support(event_sequences=event_sequence, \n",
    "            episodes=(Episode(('a',)), Episode(('a', 'b'))), \n",
    "            window_width=5, \n",
    "            only_full_windows=False, \n",
    "            allow_intermediate_events=True)"
   ]
  },
  {
   "cell_type": "markdown",
   "metadata": {},
   "source": [
    "Find relative support for episodes. "
   ]
  },
  {
   "cell_type": "code",
   "execution_count": 5,
   "metadata": {
    "collapsed": false
   },
   "outputs": [
    {
     "data": {
      "text/plain": [
       "[0.6923076923076923, 0.46153846153846156]"
      ]
     },
     "execution_count": 5,
     "metadata": {},
     "output_type": "execute_result"
    }
   ],
   "source": [
    "rel_support(event_sequences=event_sequence, \n",
    "            episodes=(Episode(('a',)), Episode(('a', 'b'))), \n",
    "            window_width=5, \n",
    "            only_full_windows=False, \n",
    "            allow_intermediate_events=True)"
   ]
  },
  {
   "cell_type": "markdown",
   "metadata": {},
   "source": [
    "In both cases, the defaults are\n",
    "```python \n",
    "only_full_windows = False\n",
    "allow_intermediate_events = episodes.allow_intermediate_events\n",
    "```\n",
    "It is more efficient to find the supports for list of episodes than for every episode separetely. \n",
    "\n",
    "The side effect of ```abs_support``` and ```rel_support``` is that all the episodes are equipped with ```abs_support```, ```rel_support``` and ```allow_intermediate_events``` attributes."
   ]
  },
  {
   "cell_type": "code",
   "execution_count": 6,
   "metadata": {
    "collapsed": false
   },
   "outputs": [
    {
     "data": {
      "text/plain": [
       "(6, 0.46153846153846156, True)"
      ]
     },
     "execution_count": 6,
     "metadata": {},
     "output_type": "execute_result"
    }
   ],
   "source": [
    "e = Episode(('a', 'b'))\n",
    "abs_support(event_sequences=event_sequence, \n",
    "            episodes=e, \n",
    "            window_width=5, \n",
    "            only_full_windows=False, \n",
    "            allow_intermediate_events=True)\n",
    "e.abs_support, e.rel_support, e.allow_intermediate_events"
   ]
  },
  {
   "cell_type": "markdown",
   "metadata": {},
   "source": [
    "\n",
    "## Only full windows vs all windows\n",
    "The default is only_full_windows=False."
   ]
  },
  {
   "cell_type": "code",
   "execution_count": 7,
   "metadata": {
    "collapsed": false
   },
   "outputs": [
    {
     "name": "stdout",
     "output_type": "stream",
     "text": [
      "Full windows: [2 ('c',), 1 ('a',), 5 ('b',), 1 ('a', 'b'), 2 ('b', 'c')]\n",
      "All windows:  [5 ('c',), 5 ('a',), 5 ('b',)]\n"
     ]
    }
   ],
   "source": [
    "sequence_of_events = (Event('a', 0), Event('b', 4), Event('c', 7))\n",
    "event_sequence = EventSequence(sequence_of_events=sequence_of_events, start=0, end=9)\n",
    "\n",
    "frequent_episodes = find_sequential_episodes(event_sequence, window_width=5,  min_frequency=0.2, only_full_windows=True)\n",
    "print('Full windows:', frequent_episodes)\n",
    "frequent_episodes = find_sequential_episodes(event_sequence, window_width=5,  min_frequency=0.2, only_full_windows=False)\n",
    "print('All windows: ', frequent_episodes)"
   ]
  },
  {
   "cell_type": "markdown",
   "metadata": {},
   "source": [
    "In case of full windows the Winepi frequency of episodes near the start or end of the event sequence is reduced, but the number of all windows is smaller and therefore the relative frequency of episodes is increased."
   ]
  },
  {
   "cell_type": "markdown",
   "metadata": {},
   "source": [
    "## Intermediate events vs no intermediate events\n",
    "An intermediate event is one or more events at the same time. In the next example, the only episode which has an a intermediate event is ('a', 'd').\n",
    "\n",
    "The default is \n",
    "\n",
    "```python \n",
    "no_intermediate_events=False\n",
    "```\n",
    "In the next example, the only episode which has an intermediate event is ```('a', 'd')```."
   ]
  },
  {
   "cell_type": "code",
   "execution_count": 8,
   "metadata": {
    "collapsed": false
   },
   "outputs": [
    {
     "name": "stdout",
     "output_type": "stream",
     "text": [
      "Allow intermediate events:\n",
      "[4 ('d',),\n",
      " 4 ('c',),\n",
      " 4 ('a',),\n",
      " 4 ('b',),\n",
      " 3 ('c', 'd'),\n",
      " 2 ('a', 'c'),\n",
      " 2 ('a', 'b'),\n",
      " 3 ('b', 'd'),\n",
      " 1 ('a', 'c', 'd'),\n",
      " 1 ('a', 'b', 'd')]\n",
      "No intermediate events:\n",
      "[4 ('d',),\n",
      " 4 ('c',),\n",
      " 4 ('a',),\n",
      " 4 ('b',),\n",
      " 3 ('c', 'd'),\n",
      " 1 ('a', 'd'),\n",
      " 2 ('a', 'c'),\n",
      " 2 ('a', 'b'),\n",
      " 3 ('b', 'd'),\n",
      " 1 ('a', 'c', 'd'),\n",
      " 1 ('a', 'b', 'd')]\n"
     ]
    }
   ],
   "source": [
    "sequence_of_events = (Event('a', 0), Event('b', 2), Event('c', 2), Event('d', 3))\n",
    "event_sequence = EventSequence(sequence_of_events=sequence_of_events, start=0, end=6)\n",
    "\n",
    "print('Allow intermediate events:')\n",
    "frequent_episodes = find_sequential_episodes(event_sequence, \n",
    "                                             window_width=4, min_frequency=0.1, \n",
    "                                             allow_intermediate_events=False)\n",
    "pprint(frequent_episodes)\n",
    "print('No intermediate events:')\n",
    "frequent_episodes = find_sequential_episodes(event_sequence, \n",
    "                                             window_width=4, min_frequency=0.1, \n",
    "                                             allow_intermediate_events=True)\n",
    "pprint(frequent_episodes)"
   ]
  },
  {
   "cell_type": "markdown",
   "metadata": {},
   "source": [
    "In the next example \"allow intermediate events\" version finds no pattern, but \"no intermediate events\" version returns even episodes which occur only once (e.g. ('d', 'b'))."
   ]
  },
  {
   "cell_type": "code",
   "execution_count": 9,
   "metadata": {
    "collapsed": false
   },
   "outputs": [
    {
     "name": "stdout",
     "output_type": "stream",
     "text": [
      "Alloow intermediate events:\n",
      "[6 ('d',),\n",
      " 6 ('c',),\n",
      " 12 ('a',),\n",
      " 6 ('e',),\n",
      " 12 ('b',),\n",
      " 4 ('d', 'b'),\n",
      " 4 ('c', 'b'),\n",
      " 6 ('a', 'b'),\n",
      " 4 ('b', 'd'),\n",
      " 4 ('b', 'a'),\n",
      " 4 ('b', 'e')]\n",
      "\n",
      "No intermediate events:\n",
      "[6 ('d',), 6 ('c',), 12 ('a',), 6 ('e',), 12 ('b',)]\n"
     ]
    }
   ],
   "source": [
    "sequence_of_events = (Event('a', 1), Event('c',  2), Event('b',  3), Event('c',  4), \n",
    "                      Event('a', 5), Event('d',  6), Event('b',  7), Event('d',  8), \n",
    "                      Event('a', 9), Event('e', 10), Event('b', 11), Event('e', 12)) \n",
    "event_sequence = EventSequence(sequence_of_events=sequence_of_events, start=0, end=13)\n",
    "\n",
    "frequent_episodes = find_sequential_episodes(event_sequence, \n",
    "                                             window_width=4, min_frequency=0.2, \n",
    "                                             allow_intermediate_events=True)\n",
    "print('Alloow intermediate events:')\n",
    "pprint(frequent_episodes)\n",
    "frequent_episodes = find_sequential_episodes(event_sequence, \n",
    "                                             window_width=4, min_frequency=0.2, \n",
    "                                             allow_intermediate_events=False)\n",
    "print('\\nNo intermediate events:')\n",
    "pprint(frequent_episodes)"
   ]
  }
 ],
 "metadata": {
  "kernelspec": {
   "display_name": "Python 3",
   "language": "python",
   "name": "python3"
  },
  "language_info": {
   "codemirror_mode": {
    "name": "ipython",
    "version": 3
   },
   "file_extension": ".py",
   "mimetype": "text/x-python",
   "name": "python",
   "nbconvert_exporter": "python",
   "pygments_lexer": "ipython3",
   "version": "3.4.4"
  }
 },
 "nbformat": 4,
 "nbformat_minor": 0
}
