{
 "cells": [
  {
   "cell_type": "markdown",
   "metadata": {
    "collapsed": true
   },
   "source": [
    "# EventTagger\n",
    "\n",
    "A class that finds a list of events from **Text** object based on user-provided vocabulary. The events are tagged by several metrics (**start**, **end**, **cstart**, **wstart**, **wstart_raw**, **wend_raw**) and user-provided classificators.\n",
    "\n",
    "## Usage"
   ]
  },
  {
   "cell_type": "code",
   "execution_count": 1,
   "metadata": {
    "collapsed": false
   },
   "outputs": [],
   "source": [
    "from pandas import DataFrame, read_csv\n",
    "from estnltk import Text\n",
    "from estnltk.taggers import EventTagger"
   ]
  },
  {
   "cell_type": "markdown",
   "metadata": {},
   "source": [
    "### Example 1\n",
    "Create ``pandas`` ``DataFrame``"
   ]
  },
  {
   "cell_type": "code",
   "execution_count": 2,
   "metadata": {
    "collapsed": true
   },
   "outputs": [],
   "source": [
    "event_vocabulary = DataFrame([['Harv',          'sagedus'], \n",
    "                              ['tugev peavalu', 'sümptom']], \n",
    "                      columns=['term',          'type'])"
   ]
  },
  {
   "cell_type": "markdown",
   "metadata": {},
   "source": [
    "or file [event vocabulary.csv](data/event vocabulary.csv) in *csv* format:\n",
    "```\n",
    "term,type\n",
    "Harv,sagedus\n",
    "tugev peavalu,sümptom\n",
    "```"
   ]
  },
  {
   "cell_type": "code",
   "execution_count": 3,
   "metadata": {
    "collapsed": true
   },
   "outputs": [],
   "source": [
    "event_vocabulary = read_csv('data/event vocabulary.csv')"
   ]
  },
  {
   "cell_type": "markdown",
   "metadata": {},
   "source": [
    "or list of ``dict``s"
   ]
  },
  {
   "cell_type": "code",
   "execution_count": 4,
   "metadata": {
    "collapsed": true
   },
   "outputs": [],
   "source": [
    "event_vocabulary = [{'term': 'harv',          'type': 'sagedus'},\n",
    "                    {'term': 'tugev peavalu', 'type': 'sümptom'}]"
   ]
  },
  {
   "cell_type": "markdown",
   "metadata": {},
   "source": [
    "There must be one key (column) called **term** in ``event_vocabulary``. That refers to the strings searched from the text. Other keys (**type** in this example) are optional. No key may have name **start**, **end**, **cstart**, **wstart**, **wstart_raw** or **wend_raw**.\n",
    "\n",
    "Create **Text** object, **EventTagger** object and find the list of events."
   ]
  },
  {
   "cell_type": "code",
   "execution_count": 5,
   "metadata": {
    "collapsed": false
   },
   "outputs": [
    {
     "data": {
      "text/plain": [
       "[{'cstart': 0,\n",
       "  'end': 13,\n",
       "  'start': 0,\n",
       "  'term': 'tugev peavalu',\n",
       "  'type': 'sümptom',\n",
       "  'wend_raw': 2,\n",
       "  'wstart': 0,\n",
       "  'wstart_raw': 0},\n",
       " {'cstart': 9,\n",
       "  'end': 25,\n",
       "  'start': 21,\n",
       "  'term': 'harv',\n",
       "  'type': 'sagedus',\n",
       "  'wend_raw': 4,\n",
       "  'wstart': 2,\n",
       "  'wstart_raw': 3}]"
      ]
     },
     "execution_count": 5,
     "metadata": {},
     "output_type": "execute_result"
    }
   ],
   "source": [
    "text = Text('Tugev peavalu esineb harva.')\n",
    "event_tagger = EventTagger(event_vocabulary, search_method='ahocorasick', case_sensitive=False,\n",
    "                           conflict_resolving_strategy='ALL', return_layer=True)\n",
    "event_tagger.tag(text)"
   ]
  },
  {
   "cell_type": "markdown",
   "metadata": {},
   "source": [
    "The attributes **start** and **end** show at which character the event starts and ends.<br>\n",
    "The attributes **wstart_raw** and **wend_raw** show at which word the event starts and ends.<br>\n",
    "The attributes **cstart** and **wstart** are like **start** and **wstart_raw** but are calculated as if all the events consist of one char. These attributes are calculated only if there is no overlapping events in the text. Use ```conflict_resolving_strategy='MAX'``` or ```conflict_resolving_strategy='MIN'``` to remove overlaps.\n",
    "\n",
    "|            | *Tugev peavalu* | esineb | *harv *a. |\n",
    "|------------|-----------------|--------|--------   |\n",
    "| start      | 0               |        | 21        |\n",
    "| end        | 13              |        | 25        |\n",
    "| wstart_raw | 0               |        | 3         |\n",
    "| wend_raw   | 2               |        | 4         |\n",
    "| cstart     | 0               |        | 9         |\n",
    "| wstart     | 0               |        | 2         |\n",
    "\n",
    "The **search_method** is either 'ahocorasick' or 'naive'. 'naive' is slower in general but does not depend on **pyahocorasic** package. \n",
    "\n",
    "The **conflict_resolving_strategy** is either 'ALL', 'MIN' or 'MAX' (see the next example).\n",
    "\n",
    "The events in output are ordered by ``start`` and ``end``.\n",
    "\n",
    "The defaults are:\n",
    "\n",
    "```python\n",
    "search_method='naive' # for Python < 3\n",
    "search_method='ahocorasick' # for Python >= 3\n",
    "case_sensitive=True\n",
    "conflict_resolving_strategy='MAX'\n",
    "return_layer=False\n",
    "layer_name='events'\n",
    "```\n",
    "\n",
    "### Example 2"
   ]
  },
  {
   "cell_type": "code",
   "execution_count": 6,
   "metadata": {
    "collapsed": true
   },
   "outputs": [],
   "source": [
    "event_vocabulary = [\n",
    "                    {'term': 'kaks', 'value': 2, 'type': 'väike'},\n",
    "                    {'term': 'kümme', 'value': 10, 'type': 'keskmine'},\n",
    "                    {'term': 'kakskümmend', 'value': 20, 'type': 'suur'},\n",
    "                    {'term': 'kakskümmend kaks', 'value': 22, 'type': 'suur'}\n",
    "                   ]\n",
    "text = Text('kakskümmend kaks')"
   ]
  },
  {
   "cell_type": "markdown",
   "metadata": {},
   "source": [
    "``conflict_resolving_strategy='ALL'`` returns all events."
   ]
  },
  {
   "cell_type": "code",
   "execution_count": 7,
   "metadata": {
    "collapsed": false
   },
   "outputs": [
    {
     "data": {
      "text/plain": [
       "[{'end': 4,\n",
       "  'start': 0,\n",
       "  'term': 'kaks',\n",
       "  'type': 'väike',\n",
       "  'value': 2,\n",
       "  'wend_raw': 1,\n",
       "  'wstart_raw': 0},\n",
       " {'end': 11,\n",
       "  'start': 0,\n",
       "  'term': 'kakskümmend',\n",
       "  'type': 'suur',\n",
       "  'value': 20,\n",
       "  'wend_raw': 1,\n",
       "  'wstart_raw': 0},\n",
       " {'end': 16,\n",
       "  'start': 0,\n",
       "  'term': 'kakskümmend kaks',\n",
       "  'type': 'suur',\n",
       "  'value': 22,\n",
       "  'wend_raw': 0,\n",
       "  'wstart_raw': 0},\n",
       " {'end': 9,\n",
       "  'start': 4,\n",
       "  'term': 'kümme',\n",
       "  'type': 'keskmine',\n",
       "  'value': 10,\n",
       "  'wend_raw': 1,\n",
       "  'wstart_raw': 0},\n",
       " {'end': 16,\n",
       "  'start': 12,\n",
       "  'term': 'kaks',\n",
       "  'type': 'väike',\n",
       "  'value': 2,\n",
       "  'wend_raw': 0,\n",
       "  'wstart_raw': 2}]"
      ]
     },
     "execution_count": 7,
     "metadata": {},
     "output_type": "execute_result"
    }
   ],
   "source": [
    "event_tagger = EventTagger(event_vocabulary, search_method='naive', conflict_resolving_strategy='ALL', return_layer=True)\n",
    "event_tagger.tag(text)"
   ]
  },
  {
   "cell_type": "markdown",
   "metadata": {},
   "source": [
    "``conflict_resolving_strategy='MAX'`` returns all the events that are not contained by any other event."
   ]
  },
  {
   "cell_type": "code",
   "execution_count": 8,
   "metadata": {
    "collapsed": false
   },
   "outputs": [
    {
     "data": {
      "text/plain": [
       "[{'cstart': 0,\n",
       "  'end': 16,\n",
       "  'start': 0,\n",
       "  'term': 'kakskümmend kaks',\n",
       "  'type': 'suur',\n",
       "  'value': 22,\n",
       "  'wend_raw': 0,\n",
       "  'wstart': 0,\n",
       "  'wstart_raw': 0}]"
      ]
     },
     "execution_count": 8,
     "metadata": {},
     "output_type": "execute_result"
    }
   ],
   "source": [
    "event_tagger = EventTagger(event_vocabulary, search_method='naive', conflict_resolving_strategy='MAX', return_layer=True)\n",
    "event_tagger.tag(text)"
   ]
  },
  {
   "cell_type": "markdown",
   "metadata": {},
   "source": [
    "``conflict_resolving_strategy='MIN'`` returns all the events that don't contain any other event."
   ]
  },
  {
   "cell_type": "code",
   "execution_count": 9,
   "metadata": {
    "collapsed": false
   },
   "outputs": [
    {
     "data": {
      "text/plain": [
       "[{'cstart': 0,\n",
       "  'end': 4,\n",
       "  'start': 0,\n",
       "  'term': 'kaks',\n",
       "  'type': 'väike',\n",
       "  'value': 2,\n",
       "  'wend_raw': 1,\n",
       "  'wstart': 0,\n",
       "  'wstart_raw': 0},\n",
       " {'cstart': 1,\n",
       "  'end': 9,\n",
       "  'start': 4,\n",
       "  'term': 'kümme',\n",
       "  'type': 'keskmine',\n",
       "  'value': 10,\n",
       "  'wend_raw': 1,\n",
       "  'wstart': 0,\n",
       "  'wstart_raw': 0},\n",
       " {'cstart': 5,\n",
       "  'end': 16,\n",
       "  'start': 12,\n",
       "  'term': 'kaks',\n",
       "  'type': 'väike',\n",
       "  'value': 2,\n",
       "  'wend_raw': 0,\n",
       "  'wstart': 2,\n",
       "  'wstart_raw': 2}]"
      ]
     },
     "execution_count": 9,
     "metadata": {},
     "output_type": "execute_result"
    }
   ],
   "source": [
    "event_tagger = EventTagger(event_vocabulary, search_method='naive', conflict_resolving_strategy='MIN', return_layer=True)\n",
    "event_tagger.tag(text)"
   ]
  }
 ],
 "metadata": {
  "anaconda-cloud": {},
  "kernelspec": {
   "display_name": "Python [default]",
   "language": "python",
   "name": "python3"
  },
  "language_info": {
   "codemirror_mode": {
    "name": "ipython",
    "version": 3
   },
   "file_extension": ".py",
   "mimetype": "text/x-python",
   "name": "python",
   "nbconvert_exporter": "python",
   "pygments_lexer": "ipython3",
   "version": "3.5.2"
  }
 },
 "nbformat": 4,
 "nbformat_minor": 0
}
