{
 "cells": [
  {
   "cell_type": "markdown",
   "metadata": {
    "collapsed": true
   },
   "source": [
    "# EventTagger\n",
    "A class that finds a list of events from **Text** object based on user-provided vocabulary. The events are tagged by several metrics (**start**, **end**, **cstart**, **wstart**) and user-provided classificators.\n",
    "## Requirements\n",
    "pyahocorasick: https://pypi.python.org/pypi/pyahocorasick\n",
    "## Usage\n",
    "Create file *data/event vocabulary.csv* in *csv* format:\n",
    "\n",
    "term,value,type<br />\n",
    "Väga sage,sage,sagedus<br />\n",
    "Sage,sage,sagedus<br />\n",
    "peavalu,peavalu,sümptom<br />\n",
    "kõhukinnisus,kõhukinnisus,sümptom\n",
    "\n",
    "There must be one column with the header **term** in the file. That column contains the strings searched from the text. No term may be a substring of another term. Other columns are optional. No column may have heading **start**, **end**, **cstart**, **wstart** or **wend**.\n",
    "\n",
    "Create **EventTagger** object, **Text** object and list of events."
   ]
  },
  {
   "cell_type": "code",
   "execution_count": 1,
   "metadata": {
    "collapsed": false
   },
   "outputs": [],
   "source": [
    "from event_tagger import EventTagger\n",
    "from estnltk import Text"
   ]
  },
  {
   "cell_type": "code",
   "execution_count": 2,
   "metadata": {
    "collapsed": false
   },
   "outputs": [
    {
     "data": {
      "text/plain": [
       "[{'cstart': 0,\n",
       "  'end': 9,\n",
       "  'start': 0,\n",
       "  'term': 'Väga sage',\n",
       "  'type': 'sagedus',\n",
       "  'value': 'sage',\n",
       "  'wstart': 0},\n",
       " {'cstart': 2,\n",
       "  'end': 22,\n",
       "  'start': 10,\n",
       "  'term': 'kõhukinnisus',\n",
       "  'type': 'sümptom',\n",
       "  'value': 'kõhukinnisus',\n",
       "  'wstart': 1},\n",
       " {'cstart': 5,\n",
       "  'end': 28,\n",
       "  'start': 24,\n",
       "  'term': 'Sage',\n",
       "  'type': 'sagedus',\n",
       "  'value': 'sage',\n",
       "  'wstart': 3},\n",
       " {'cstart': 22,\n",
       "  'end': 51,\n",
       "  'start': 44,\n",
       "  'term': 'peavalu',\n",
       "  'type': 'sümptom',\n",
       "  'value': 'peavalu',\n",
       "  'wstart': 6}]"
      ]
     },
     "execution_count": 2,
     "metadata": {},
     "output_type": "execute_result"
    }
   ],
   "source": [
    "event_tagger = EventTagger('data/event vocabulary.csv')\n",
    "\n",
    "text = Text('Väga sage kõhukinnisus. Sagedane sümptom on peavalu.')\n",
    "\n",
    "event_tagger.tag_events(text, method='ahocorasick')"
   ]
  },
  {
   "cell_type": "markdown",
   "metadata": {},
   "source": [
    "The **method** is either 'ahocorasick' or 'naive'. 'naive' is slower in general but does not depend on **pyahocorasic** package. The word start 'wstart' and char start 'cstart' are calculated as if all the events consist of one char."
   ]
  }
 ],
 "metadata": {
  "kernelspec": {
   "display_name": "Python 3",
   "language": "python",
   "name": "python3"
  },
  "language_info": {
   "codemirror_mode": {
    "name": "ipython",
    "version": 3
   },
   "file_extension": ".py",
   "mimetype": "text/x-python",
   "name": "python",
   "nbconvert_exporter": "python",
   "pygments_lexer": "ipython3",
   "version": "3.5.1"
  }
 },
 "nbformat": 4,
 "nbformat_minor": 0
}
