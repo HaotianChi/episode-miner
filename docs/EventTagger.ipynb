{
 "cells": [
  {
   "cell_type": "markdown",
   "metadata": {
    "collapsed": true
   },
   "source": [
    "# EventTagger\n",
    "\n",
    "A class that finds a list of events from **Text** object based on user-provided vocabulary. The events are tagged by several metrics (**start**, **end**, **cstart**, **wstart**) and user-provided classificators.\n",
    "\n",
    "## Usage\n",
    "\n",
    "Create file `data/event vocabulary.csv` in *csv* format:\n",
    "```\n",
    "term,value,type\n",
    "Väga sage,sage,sagedus\n",
    "Sage,sage,sagedus\n",
    "peavalu,peavalu,sümptom\n",
    "kõhukinnisus,kõhukinnisus,sümptom\n",
    "```\n",
    "\n",
    "There must be one column with the header **term** in the file. That column contains the strings searched from the text. No term may be a substring of another term. Other columns are optional. No column may have heading **start**, **end**, **cstart**, **wstart** or **wend**.\n",
    "\n",
    "Create **EventTagger** object, **Text** object and list of events."
   ]
  },
  {
   "cell_type": "code",
   "execution_count": 1,
   "metadata": {
    "collapsed": false
   },
   "outputs": [],
   "source": [
    "from episode_miner.event_tagger import EventTagger\n",
    "from estnltk import Text\n",
    "from pprint import pprint"
   ]
  },
  {
   "cell_type": "code",
   "execution_count": 2,
   "metadata": {
    "collapsed": false,
    "scrolled": true
   },
   "outputs": [
    {
     "name": "stdout",
     "output_type": "stream",
     "text": [
      "[{'cstart': 0,\n",
      "  'end': 9,\n",
      "  'start': 0,\n",
      "  'term': 'Väga sage',\n",
      "  'type': 'sagedus',\n",
      "  'value': 'sage',\n",
      "  'wstart': 0},\n",
      " {'cstart': 2,\n",
      "  'end': 22,\n",
      "  'start': 10,\n",
      "  'term': 'kõhukinnisus',\n",
      "  'type': 'sümptom',\n",
      "  'value': 'kõhukinnisus',\n",
      "  'wstart': 1},\n",
      " {'cstart': 5,\n",
      "  'end': 28,\n",
      "  'start': 24,\n",
      "  'term': 'Sage',\n",
      "  'type': 'sagedus',\n",
      "  'value': 'sage',\n",
      "  'wstart': 3},\n",
      " {'end': 51,\n",
      "  'start': 44,\n",
      "  'term': 'peavalu',\n",
      "  'type': 'sümptom',\n",
      "  'value': 'peavalu'}]\n"
     ]
    }
   ],
   "source": [
    "event_tagger = EventTagger('data/event vocabulary.csv')\n",
    "\n",
    "text = Text('Väga sage kõhukinnisus. Sagedane sümptom on peavalu.')\n",
    "\n",
    "events = event_tagger.tag_events(text, method='ahocorasick')\n",
    "\n",
    "pprint(events)"
   ]
  },
  {
   "cell_type": "markdown",
   "metadata": {},
   "source": [
    "The **method** is either 'ahocorasick' or 'naive'. 'naive' is slower in general but does not depend on **pyahocorasic** package. The word start 'wstart' and char start 'cstart' are calculated as if all the events consist of one char."
   ]
  },
  {
   "cell_type": "code",
   "execution_count": 3,
   "metadata": {
    "collapsed": false
   },
   "outputs": [
    {
     "data": {
      "text/html": [
       "<!DOCTYPE html>\n",
       "<html>\n",
       "    <head>\n",
       "        <link rel=\"stylesheet\" type=\"text/css\" href=\"prettyprinter.css\">\n",
       "        <meta charset=\"utf-8\">\n",
       "        <title>PrettyPrinter</title>\n",
       "    </head>\n",
       "    <style>\n",
       "\n",
       "\n",
       "\t\tmark {\n",
       "\t\t\tbackground:none;\n",
       "\t\t}\n",
       "\t\tmark.background {\n",
       "\t\t\tbackground-color: rgb(102, 204, 255);\n",
       "\t\t}\n",
       "\n",
       "    </style>\n",
       "    <body>\n",
       "\n",
       "<mark class=\"background\">Väga sage</mark> <mark class=\"background\">kõhukinnisus</mark>. <mark class=\"background\">Sage</mark>dane sümptom on <mark class=\"background\">peavalu</mark>.\n",
       "\t</body>\n",
       "</html>"
      ],
      "text/plain": [
       "<IPython.core.display.HTML object>"
      ]
     },
     "execution_count": 3,
     "metadata": {},
     "output_type": "execute_result"
    }
   ],
   "source": [
    "from estnltk import PrettyPrinter\n",
    "from IPython.display import HTML\n",
    "\n",
    "text['events'] = events\n",
    "pp = PrettyPrinter(background='events')\n",
    "HTML(pp.render(text, True))"
   ]
  }
 ],
 "metadata": {
  "kernelspec": {
   "display_name": "Python 3",
   "language": "python",
   "name": "python3"
  },
  "language_info": {
   "codemirror_mode": {
    "name": "ipython",
    "version": 3
   },
   "file_extension": ".py",
   "mimetype": "text/x-python",
   "name": "python",
   "nbconvert_exporter": "python",
   "pygments_lexer": "ipython3",
   "version": "3.5.1"
  }
 },
 "nbformat": 4,
 "nbformat_minor": 0
}
