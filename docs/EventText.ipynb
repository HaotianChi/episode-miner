{
 "cells": [
  {
   "cell_type": "markdown",
   "metadata": {
    "collapsed": true
   },
   "source": [
    "# EventText\n",
    "\n",
    "A subclass of estnltk's **Text**."
   ]
  },
  {
   "cell_type": "code",
   "execution_count": 1,
   "metadata": {
    "collapsed": false
   },
   "outputs": [],
   "source": [
    "from episode_miner import EventTagger, EventText\n",
    "from estnltk import PrettyPrinter\n",
    "from estnltk.names import TEXT, START, END\n",
    "from IPython.display import HTML, FileLink\n",
    "from pprint import pprint"
   ]
  },
  {
   "cell_type": "markdown",
   "metadata": {},
   "source": [
    "Create ``EventText`` object and print the ``'events'`` layer."
   ]
  },
  {
   "cell_type": "code",
   "execution_count": 2,
   "metadata": {
    "collapsed": false
   },
   "outputs": [
    {
     "name": "stdout",
     "output_type": "stream",
     "text": [
      "[{'cstart': 0,\n",
      "  'end': 4,\n",
      "  'start': 0,\n",
      "  'term': 'Harv',\n",
      "  'type': 'sagedus',\n",
      "  'value': 'harv',\n",
      "  'wend_raw': 1,\n",
      "  'wstart': 0,\n",
      "  'wstart_raw': 0},\n",
      " {'cstart': 10,\n",
      "  'end': 20,\n",
      "  'start': 13,\n",
      "  'term': 'peavalu',\n",
      "  'type': 'sümptom',\n",
      "  'value': 'peavalu',\n",
      "  'wend_raw': 3,\n",
      "  'wstart': 2,\n",
      "  'wstart_raw': 2}]\n"
     ]
    }
   ],
   "source": [
    "event_vocabulary = [{'term': 'Harv',   'value': 'harv',    'type': 'sagedus'}, \n",
    "                    {'term': 'peavalu','value': 'peavalu', 'type': 'sümptom'}]\n",
    "event_tagger = EventTagger(event_vocabulary, search_method='naive', conflict_resolving_strategy='ALL')\n",
    "\n",
    "event_text = EventText('Harva esineb peavalu.', event_tagger=event_tagger)\n",
    "\n",
    "events = event_text.events\n",
    "pprint(events)"
   ]
  },
  {
   "cell_type": "markdown",
   "metadata": {},
   "source": [
    "Let's PrettyPrint the result."
   ]
  },
  {
   "cell_type": "code",
   "execution_count": 3,
   "metadata": {
    "collapsed": false,
    "scrolled": true
   },
   "outputs": [
    {
     "data": {
      "text/html": [
       "<a href='data/event_text.html' target='_blank'>data/event_text.html</a><br>"
      ],
      "text/plain": [
       "/home/paul/workspace/episode-miner/docs/data/event_text.html"
      ]
     },
     "execution_count": 3,
     "metadata": {},
     "output_type": "execute_result"
    }
   ],
   "source": [
    "for event in events:\n",
    "    event['text'] = event['type']\n",
    "\n",
    "rules = [\n",
    "            ('sümptom', 'blue'),\n",
    "            ('sagedus', 'red')\n",
    "        ]\n",
    "\n",
    "def event_tags(event_text):\n",
    "    return ({TEXT: event['type'], START: event[START], END: event[END]} \n",
    "            for event in event_text.events)\n",
    "\n",
    "pp = PrettyPrinter(background=event_tags, background_value=rules)\n",
    "html = pp.render(event_text, True)\n",
    "with open('data/event_text.html', 'w') as f:\n",
    "    f.write(html)\n",
    "FileLink('data/event_text.html')"
   ]
  },
  {
   "cell_type": "code",
   "execution_count": 4,
   "metadata": {
    "collapsed": false
   },
   "outputs": [
    {
     "data": {
      "text/html": [
       "<!DOCTYPE html>\n",
       "<html>\n",
       "    <head>\n",
       "        <link rel=\"stylesheet\" type=\"text/css\" href=\"prettyprinter.css\">\n",
       "        <meta charset=\"utf-8\">\n",
       "        <title>PrettyPrinter</title>\n",
       "    </head>\n",
       "    <style>\n",
       "\n",
       "\n",
       "\t\tmark {\n",
       "\t\t\tbackground:none;\n",
       "\t\t}\n",
       "\t\tmark.background_0 {\n",
       "\t\t\tbackground-color: blue;\n",
       "\t\t}\n",
       "\t\tmark.background_1 {\n",
       "\t\t\tbackground-color: red;\n",
       "\t\t}\n",
       "\n",
       "    </style>\n",
       "    <body>\n",
       "\n",
       "<mark class=\"background_1\">Harv</mark>a esineb <mark class=\"background_0\">peavalu</mark>.\n",
       "\t</body>\n",
       "</html>"
      ],
      "text/plain": [
       "<IPython.core.display.HTML object>"
      ]
     },
     "execution_count": 4,
     "metadata": {},
     "output_type": "execute_result"
    }
   ],
   "source": [
    "HTML(html)"
   ]
  }
 ],
 "metadata": {
  "kernelspec": {
   "display_name": "Python 3",
   "language": "python",
   "name": "python3"
  },
  "language_info": {
   "codemirror_mode": {
    "name": "ipython",
    "version": 3
   },
   "file_extension": ".py",
   "mimetype": "text/x-python",
   "name": "python",
   "nbconvert_exporter": "python",
   "pygments_lexer": "ipython3",
   "version": "3.4.4"
  }
 },
 "nbformat": 4,
 "nbformat_minor": 0
}
