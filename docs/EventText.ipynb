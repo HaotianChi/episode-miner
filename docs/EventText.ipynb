{
 "cells": [
  {
   "cell_type": "markdown",
   "metadata": {
    "collapsed": true
   },
   "source": [
    "# EventText\n",
    "\n",
    "A subclass of estnltk's **Text**."
   ]
  },
  {
   "cell_type": "code",
   "execution_count": 1,
   "metadata": {
    "collapsed": false
   },
   "outputs": [],
   "source": [
    "from episode_miner import EventTagger, EventText"
   ]
  },
  {
   "cell_type": "markdown",
   "metadata": {},
   "source": [
    "Create ``EventText`` object and print the ``'events'`` layer."
   ]
  },
  {
   "cell_type": "code",
   "execution_count": 2,
   "metadata": {
    "collapsed": false,
    "scrolled": true
   },
   "outputs": [
    {
     "data": {
      "text/plain": [
       "[{'cstart': 0,\n",
       "  'end': 4,\n",
       "  'start': 0,\n",
       "  'term': 'Harv',\n",
       "  'type': 'sagedus',\n",
       "  'value': 'harv',\n",
       "  'wend_raw': 1,\n",
       "  'wstart': 0,\n",
       "  'wstart_raw': 0},\n",
       " {'cstart': 10,\n",
       "  'end': 20,\n",
       "  'start': 13,\n",
       "  'term': 'peavalu',\n",
       "  'type': 'sümptom',\n",
       "  'value': 'peavalu',\n",
       "  'wend_raw': 3,\n",
       "  'wstart': 2,\n",
       "  'wstart_raw': 2}]"
      ]
     },
     "execution_count": 2,
     "metadata": {},
     "output_type": "execute_result"
    }
   ],
   "source": [
    "event_vocabulary = [{'term': 'Harv',   'value': 'harv',    'type': 'sagedus'}, \n",
    "                    {'term': 'peavalu','value': 'peavalu', 'type': 'sümptom'}]\n",
    "event_tagger = EventTagger(event_vocabulary, search_method='naive', conflict_resolving_strategy='ALL', return_layer=True)\n",
    "\n",
    "event_text = EventText('Harva esineb peavalu.', event_tagger=event_tagger)\n",
    "\n",
    "event_text.events"
   ]
  }
 ],
 "metadata": {
  "kernelspec": {
   "display_name": "Python 3",
   "language": "python",
   "name": "python3"
  },
  "language_info": {
   "codemirror_mode": {
    "name": "ipython",
    "version": 3
   },
   "file_extension": ".py",
   "mimetype": "text/x-python",
   "name": "python",
   "nbconvert_exporter": "python",
   "pygments_lexer": "ipython3",
   "version": "3.4.4"
  }
 },
 "nbformat": 4,
 "nbformat_minor": 0
}
