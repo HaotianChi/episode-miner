{
 "cells": [
  {
   "cell_type": "markdown",
   "metadata": {
    "collapsed": true
   },
   "source": [
    "# EventText"
   ]
  },
  {
   "cell_type": "code",
   "execution_count": 1,
   "metadata": {
    "collapsed": true
   },
   "outputs": [],
   "source": [
    "from episode_miner.event_tagger import EventTagger\n",
    "from episode_miner.event_text import EventText\n",
    "from estnltk import PrettyPrinter\n",
    "from IPython.display import HTML\n",
    "from pprint import pprint"
   ]
  },
  {
   "cell_type": "code",
   "execution_count": 2,
   "metadata": {
    "collapsed": false
   },
   "outputs": [
    {
     "name": "stdout",
     "output_type": "stream",
     "text": [
      "[{'cstart': 0,\n",
      "  'end': 9,\n",
      "  'start': 0,\n",
      "  'term': 'Väga sage',\n",
      "  'type': 'sagedus',\n",
      "  'value': 'sage',\n",
      "  'wstart': 0},\n",
      " {'cstart': 2,\n",
      "  'end': 22,\n",
      "  'start': 10,\n",
      "  'term': 'kõhukinnisus',\n",
      "  'type': 'sümptom',\n",
      "  'value': 'kõhukinnisus',\n",
      "  'wstart': 1},\n",
      " {'cstart': 5,\n",
      "  'end': 28,\n",
      "  'start': 24,\n",
      "  'term': 'Sage',\n",
      "  'type': 'sagedus',\n",
      "  'value': 'sage',\n",
      "  'wstart': 3},\n",
      " {'cstart': 22,\n",
      "  'end': 51,\n",
      "  'start': 44,\n",
      "  'term': 'peavalu',\n",
      "  'type': 'sümptom',\n",
      "  'value': 'peavalu',\n",
      "  'wstart': 6}]\n"
     ]
    },
    {
     "data": {
      "text/html": [
       "<!DOCTYPE html>\n",
       "<html>\n",
       "    <head>\n",
       "        <link rel=\"stylesheet\" type=\"text/css\" href=\"prettyprinter.css\">\n",
       "        <meta charset=\"utf-8\">\n",
       "        <title>PrettyPrinter</title>\n",
       "    </head>\n",
       "    <style>\n",
       "\n",
       "\n",
       "\t\tmark {\n",
       "\t\t\tbackground:none;\n",
       "\t\t}\n",
       "\t\tmark.background {\n",
       "\t\t\tbackground-color: rgb(102, 204, 255);\n",
       "\t\t}\n",
       "\n",
       "    </style>\n",
       "    <body>\n",
       "\n",
       "<mark class=\"background\">Väga sage</mark> <mark class=\"background\">kõhukinnisus</mark>. <mark class=\"background\">Sage</mark>dane sümptom on <mark class=\"background\">peavalu</mark>.\n",
       "\t</body>\n",
       "</html>"
      ],
      "text/plain": [
       "<IPython.core.display.HTML object>"
      ]
     },
     "execution_count": 2,
     "metadata": {},
     "output_type": "execute_result"
    }
   ],
   "source": [
    "event_tagger = EventTagger('data/event vocabulary.csv', method='ahocorasick')\n",
    "\n",
    "event_text = EventText('Väga sage kõhukinnisus. Sagedane sümptom on peavalu.', event_tagger=event_tagger)\n",
    "\n",
    "event_text.events()\n",
    "\n",
    "pprint(event_text['events'])\n",
    "\n",
    "# for winepi:\n",
    "#event_text.get_event_sequence(count_event_time_by='word', classificator='type')\n",
    "\n",
    "pp = PrettyPrinter(background='events')\n",
    "HTML(pp.render(event_text, True))"
   ]
  }
 ],
 "metadata": {
  "kernelspec": {
   "display_name": "Python 3",
   "language": "python",
   "name": "python3"
  },
  "language_info": {
   "codemirror_mode": {
    "name": "ipython",
    "version": 3
   },
   "file_extension": ".py",
   "mimetype": "text/x-python",
   "name": "python",
   "nbconvert_exporter": "python",
   "pygments_lexer": "ipython3",
   "version": "3.5.1"
  }
 },
 "nbformat": 4,
 "nbformat_minor": 0
}
