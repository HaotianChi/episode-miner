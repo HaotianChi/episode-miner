{
 "cells": [
  {
   "cell_type": "markdown",
   "metadata": {
    "collapsed": true
   },
   "source": [
    "# EventText"
   ]
  },
  {
   "cell_type": "code",
   "execution_count": 1,
   "metadata": {
    "collapsed": false
   },
   "outputs": [
    {
     "data": {
      "text/html": [
       "<!DOCTYPE html>\n",
       "<html>\n",
       "    <head>\n",
       "        <link rel=\"stylesheet\" type=\"text/css\" href=\"prettyprinter.css\">\n",
       "        <meta charset=\"utf-8\">\n",
       "        <title>PrettyPrinter</title>\n",
       "    </head>\n",
       "    <style>\n",
       "\n",
       "\n",
       "\t\tmark {\n",
       "\t\t\tbackground:none;\n",
       "\t\t}\n",
       "\t\tmark.background {\n",
       "\t\t\tbackground-color: rgb(102, 204, 255);\n",
       "\t\t}\n",
       "\n",
       "    </style>\n",
       "    <body>\n",
       "\n",
       "<mark class=\"background\">Väga sage</mark> <mark class=\"background\">kõhukinnisus</mark>. <mark class=\"background\">Sage</mark>dane sümptom on <mark class=\"background\">peavalu</mark>.\n",
       "\t</body>\n",
       "</html>"
      ],
      "text/plain": [
       "<IPython.core.display.HTML object>"
      ]
     },
     "execution_count": 1,
     "metadata": {},
     "output_type": "execute_result"
    }
   ],
   "source": [
    "from episode_miner.event_tagger import EventTagger, EventText\n",
    "from estnltk import Text\n",
    "from pprint import pprint\n",
    "from estnltk import PrettyPrinter\n",
    "from IPython.display import HTML\n",
    "\n",
    "event_tagger = EventTagger('data/event vocabulary.csv')\n",
    "\n",
    "text = Text('Väga sage kõhukinnisus. Sagedane sümptom on peavalu.')\n",
    "\n",
    "events = event_tagger.tag_events(text, method='ahocorasick')\n",
    "\n",
    "text['events'] = events\n",
    "pp = PrettyPrinter(background='events')\n",
    "HTML(pp.render(text, True))"
   ]
  }
 ],
 "metadata": {
  "kernelspec": {
   "display_name": "Python 3",
   "language": "python",
   "name": "python3"
  },
  "language_info": {
   "codemirror_mode": {
    "name": "ipython",
    "version": 3
   },
   "file_extension": ".py",
   "mimetype": "text/x-python",
   "name": "python",
   "nbconvert_exporter": "python",
   "pygments_lexer": "ipython3",
   "version": "3.5.1"
  }
 },
 "nbformat": 4,
 "nbformat_minor": 0
}
