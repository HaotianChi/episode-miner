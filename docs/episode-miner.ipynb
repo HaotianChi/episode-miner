{
 "cells": [
  {
   "cell_type": "markdown",
   "metadata": {},
   "source": [
    "## Usage"
   ]
  },
  {
   "cell_type": "code",
   "execution_count": 1,
   "metadata": {
    "collapsed": false
   },
   "outputs": [],
   "source": [
    "from episode_miner import EventText, EventSequences, Episode, Episodes\n",
    "from estnltk.taggers import EventTagger\n",
    "from IPython.display import HTML, FileLink"
   ]
  },
  {
   "cell_type": "markdown",
   "metadata": {},
   "source": [
    "Find from the texts"
   ]
  },
  {
   "cell_type": "code",
   "execution_count": 2,
   "metadata": {
    "collapsed": false
   },
   "outputs": [
    {
     "data": {
      "text/html": [
       "<!DOCTYPE html>\n",
       "<html>\n",
       "    <head>\n",
       "        <link rel=\"stylesheet\" type=\"text/css\" href=\"prettyprinter.css\">\n",
       "        <meta charset=\"utf-8\">\n",
       "        <title>PrettyPrinter</title>\n",
       "    </head>\n",
       "    <style>\n",
       "\n",
       "\n",
       "\t\tmark {\n",
       "\t\t\tbackground:none;\n",
       "\t\t}\n",
       "\t\tmark.background_0 {\n",
       "\t\t\tbackground-color: red;\n",
       "\t\t}\n",
       "\t\tmark.background_1 {\n",
       "\t\t\tbackground-color: green;\n",
       "\t\t}\n",
       "\n",
       "    </style>\n",
       "    <body>\n",
       "\n",
       "\t\t<p><mark class=\"background_0\">Üks</mark> <mark class=\"background_1\">kaks</mark> kolm neli kolm. <mark class=\"background_1\">Kaks</mark> <mark class=\"background_0\">üks</mark> <mark class=\"background_1\">kaks</mark> kolm neli kolm <mark class=\"background_0\">üks</mark> <mark class=\"background_1\">kaks</mark>.</p>\n",
       "\t\t<p><mark class=\"background_1\">Kaks</mark> <mark class=\"background_0\">üks</mark> <mark class=\"background_1\">kaks</mark> kolm neli kolm <mark class=\"background_0\">üks</mark> <mark class=\"background_1\">kaks</mark>.</p>\n",
       "\n",
       "\t</body>\n",
       "</html>"
      ],
      "text/plain": [
       "<IPython.core.display.HTML object>"
      ]
     },
     "execution_count": 2,
     "metadata": {},
     "output_type": "execute_result"
    }
   ],
   "source": [
    "event_vocabulary = [{'term': 'üks'}, \n",
    "                    {'term': 'kaks'}]    \n",
    "event_tagger = EventTagger(event_vocabulary, case_sensitive=False, return_layer=True)\n",
    "\n",
    "event_text1 = EventText('Üks kaks kolm neli kolm. Kaks üks kaks kolm neli kolm üks kaks.', event_tagger=event_tagger)\n",
    "event_text2 = EventText('Kaks üks kaks kolm neli kolm üks kaks.', event_tagger=event_tagger)\n",
    "texts = [event_text1, event_text2]\n",
    "event_sequences = EventSequences(event_texts=texts, classificator='term', time_scale='start')\n",
    "html = event_sequences.pretty_print()\n",
    "HTML(html)"
   ]
  },
  {
   "cell_type": "markdown",
   "metadata": {},
   "source": [
    "frequent serial episodes which consist of words ```üks``` and ```kaks```. \n",
    "\n",
    "## Find frequent episodes\n",
    "Let the width of the Winepi window be 31 characters and the minimal relative support of serial episodes be 30%.\n",
    "\n",
    "Find frequent serial episodes."
   ]
  },
  {
   "cell_type": "code",
   "execution_count": 3,
   "metadata": {
    "collapsed": false
   },
   "outputs": [
    {
     "data": {
      "text/plain": [
       "[(('üks'), 140, 0.8695652173913043),\n",
       " (('kaks'), 149, 0.9254658385093167),\n",
       " (('üks', 'kaks'), 129, 0.8012422360248447),\n",
       " (('kaks', 'üks'), 70, 0.43478260869565216),\n",
       " (('kaks', 'kaks'), 67, 0.4161490683229814),\n",
       " (('kaks', 'üks', 'kaks'), 58, 0.36024844720496896)]"
      ]
     },
     "execution_count": 3,
     "metadata": {},
     "output_type": "execute_result"
    }
   ],
   "source": [
    "frequent_episodes = event_sequences.find_serial_episodes(window_width=31, \n",
    "                                                         min_frequency=0.3, \n",
    "                                                         only_full_windows=False, \n",
    "                                                         allow_intermediate_events=True)\n",
    "list(zip(frequent_episodes, frequent_episodes.abs_support(), frequent_episodes.rel_support()))"
   ]
  },
  {
   "cell_type": "markdown",
   "metadata": {},
   "source": [
    "It turns out that the episode ```('kaks', 'üks', 'kaks')``` appears in 58 Winepi windows. Since the length of the first and the second text is 63 and 38 characters, respctively, the total number of winepi windows is ```63+31-1+38+31-1=161```. Therefore the relative frequency of this episode is 58 / 161 = 36%."
   ]
  },
  {
   "cell_type": "markdown",
   "metadata": {},
   "source": [
    "Write the results to file."
   ]
  },
  {
   "cell_type": "code",
   "execution_count": 4,
   "metadata": {
    "collapsed": false
   },
   "outputs": [
    {
     "data": {
      "text/html": [
       "<a href='data/episodes.txt' target='_blank'>data/episodes.txt</a><br>"
      ],
      "text/plain": [
       "/home/paul/workspace/episode-miner/docs/data/episodes.txt"
      ]
     },
     "execution_count": 4,
     "metadata": {},
     "output_type": "execute_result"
    }
   ],
   "source": [
    "frequent_episodes.to_json(file='data/episodes.txt')\n",
    "FileLink('data/episodes.txt')"
   ]
  },
  {
   "cell_type": "markdown",
   "metadata": {},
   "source": [
    "If ```file==None``` (the default), then ```to_json``` returns the corresponding string."
   ]
  },
  {
   "cell_type": "markdown",
   "metadata": {},
   "source": [
    "## Find episode examples\n",
    "Find examples for the previously found frequent episodes."
   ]
  },
  {
   "cell_type": "code",
   "execution_count": 5,
   "metadata": {
    "collapsed": false
   },
   "outputs": [],
   "source": [
    "event_sequences.find_episode_examples(frequent_episodes, \n",
    "                                      window_width=31,\n",
    "                                      allow_intermediate_events=True,\n",
    "                                      number_of_examples='ALL')"
   ]
  },
  {
   "cell_type": "markdown",
   "metadata": {},
   "source": [
    "Write the results to file."
   ]
  },
  {
   "cell_type": "code",
   "execution_count": 6,
   "metadata": {
    "collapsed": false
   },
   "outputs": [
    {
     "data": {
      "text/html": [
       "<a href='data/episode_examples.txt' target='_blank'>data/episode_examples.txt</a><br>"
      ],
      "text/plain": [
       "/home/paul/workspace/episode-miner/docs/data/episode_examples.txt"
      ]
     },
     "execution_count": 6,
     "metadata": {},
     "output_type": "execute_result"
    }
   ],
   "source": [
    "frequent_episodes.examples_to_json(file='data/episode_examples.txt')\n",
    "FileLink('data/episode_examples.txt')"
   ]
  },
  {
   "cell_type": "markdown",
   "metadata": {},
   "source": [
    "The lines of the file of examples correspond to the lines of the file of episodes.\n",
    "\n",
    "If ```file==None``` (the default), then ```examples_to_json``` returns the corresponding string.\n",
    "\n",
    "Choose the frequent episode ```('kaks', 'üks', 'kaks')``` and pretty print the examples:"
   ]
  },
  {
   "cell_type": "code",
   "execution_count": 7,
   "metadata": {
    "collapsed": false
   },
   "outputs": [
    {
     "data": {
      "text/html": [
       "<!DOCTYPE html>\n",
       "<html>\n",
       "    <head>\n",
       "        <link rel=\"stylesheet\" type=\"text/css\" href=\"prettyprinter.css\">\n",
       "        <meta charset=\"utf-8\">\n",
       "        <title>PrettyPrinter</title>\n",
       "    </head>\n",
       "    <style>\n",
       "\n",
       "\n",
       "\t\tmark {\n",
       "\t\t\tbackground:none;\n",
       "\t\t}\n",
       "\t\tmark.background_0 {\n",
       "\t\t\tbackground-color: red;\n",
       "\t\t}\n",
       "\t\tmark.background_1 {\n",
       "\t\t\tbackground-color: green;\n",
       "\t\t}\n",
       "\n",
       "    </style>\n",
       "    <body>\n",
       "\n",
       "\t\t<p>Üks <mark class=\"background_1\">kaks</mark> kolm neli kolm. Kaks <mark class=\"background_0\">üks</mark> <mark class=\"background_1\">kaks</mark> kolm neli kolm üks kaks.</p>\n",
       "\t\t<p>Üks kaks kolm neli kolm. <mark class=\"background_1\">Kaks</mark> <mark class=\"background_0\">üks</mark> <mark class=\"background_1\">kaks</mark> kolm neli kolm üks kaks.</p>\n",
       "\t\t<p>Üks kaks kolm neli kolm. Kaks üks <mark class=\"background_1\">kaks</mark> kolm neli kolm <mark class=\"background_0\">üks</mark> <mark class=\"background_1\">kaks</mark>.</p>\n",
       "\t\t<p><mark class=\"background_1\">Kaks</mark> <mark class=\"background_0\">üks</mark> <mark class=\"background_1\">kaks</mark> kolm neli kolm üks kaks.</p>\n",
       "\t\t<p>Kaks üks <mark class=\"background_1\">kaks</mark> kolm neli kolm <mark class=\"background_0\">üks</mark> <mark class=\"background_1\">kaks</mark>.</p>\n",
       "\n",
       "\t</body>\n",
       "</html>"
      ],
      "text/plain": [
       "<IPython.core.display.HTML object>"
      ]
     },
     "execution_count": 7,
     "metadata": {},
     "output_type": "execute_result"
    }
   ],
   "source": [
    "HTML(frequent_episodes[5].examples_pretty_print())"
   ]
  },
  {
   "cell_type": "markdown",
   "metadata": {},
   "source": [
    "## Find the support\n",
    "Find the absolute and the relative support (frequency) for the episodes ```(üks, kaks, üks)``` and ```(kaks, kaks, üks)```. It is more efficient to find the support for a list of episodes, than for each episode separately."
   ]
  },
  {
   "cell_type": "code",
   "execution_count": 8,
   "metadata": {
    "collapsed": false
   },
   "outputs": [
    {
     "data": {
      "text/plain": [
       "([15, 9], [0.09316770186335403, 0.055900621118012424])"
      ]
     },
     "execution_count": 8,
     "metadata": {},
     "output_type": "execute_result"
    }
   ],
   "source": [
    "episode1 = Episode(('üks', 'kaks', 'üks'))\n",
    "episode2 = Episode(('kaks', 'kaks', 'üks'))\n",
    "episodes = Episodes([episode1, episode2])\n",
    "event_sequences.support(episodes=episodes,\n",
    "                        window_width=31,\n",
    "                        only_full_windows=False, \n",
    "                        allow_intermediate_events=True)\n",
    "episodes.abs_support(), episodes.rel_support()"
   ]
  }
 ],
 "metadata": {
  "anaconda-cloud": {},
  "kernelspec": {
   "display_name": "Python [default]",
   "language": "python",
   "name": "python3"
  },
  "language_info": {
   "codemirror_mode": {
    "name": "ipython",
    "version": 3
   },
   "file_extension": ".py",
   "mimetype": "text/x-python",
   "name": "python",
   "nbconvert_exporter": "python",
   "pygments_lexer": "ipython3",
   "version": "3.5.2"
  }
 },
 "nbformat": 4,
 "nbformat_minor": 0
}
