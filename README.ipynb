{
 "cells": [
  {
   "cell_type": "markdown",
   "metadata": {},
   "source": [
    "# episode-miner\n",
    "\n",
    "Provides methods to find events from text based on user defined vocabulary. Stores the result in ```'events'``` layer of ```EventText``` object. Uses Winepi algorithm to find frequent serial episodes in event sequence.\n",
    "\n",
    "## Installation\n",
    "```bash\n",
    "git clone https://github.com/estnltk/episode-miner.git\n",
    "cd episode-miner\n",
    "python setup.py install\n",
    "\n",
    "# or pre-install requieremets separately: \n",
    "pip install -r requirements.txt\n",
    "```\n",
    "## Usage\n",
    "For more details see [docs](docs)."
   ]
  },
  {
   "cell_type": "code",
   "execution_count": 1,
   "metadata": {
    "collapsed": false
   },
   "outputs": [],
   "source": [
    "from episode_miner import EventTagger, EventText, EventSequence, Episode, find_sequential_episodes, rel_support\n",
    "from pprint import pprint\n",
    "from IPython.display import HTML"
   ]
  },
  {
   "cell_type": "markdown",
   "metadata": {},
   "source": [
    "We shall find from the text"
   ]
  },
  {
   "cell_type": "code",
   "execution_count": 2,
   "metadata": {
    "collapsed": false
   },
   "outputs": [
    {
     "data": {
      "text/html": [
       "<!DOCTYPE html>\n",
       "<html>\n",
       "    <head>\n",
       "        <link rel=\"stylesheet\" type=\"text/css\" href=\"prettyprinter.css\">\n",
       "        <meta charset=\"utf-8\">\n",
       "        <title>PrettyPrinter</title>\n",
       "    </head>\n",
       "    <style>\n",
       "\n",
       "\n",
       "\t\tmark {\n",
       "\t\t\tbackground:none;\n",
       "\t\t}\n",
       "\t\tmark.background_0 {\n",
       "\t\t\tbackground-color: red;\n",
       "\t\t}\n",
       "\t\tmark.background_1 {\n",
       "\t\t\tbackground-color: green;\n",
       "\t\t}\n",
       "\n",
       "    </style>\n",
       "    <body>\n",
       "\n",
       "\t\t<p><mark class=\"background_1\">Üks</mark> <mark class=\"background_0\">kaks</mark> kolm neli kolm. <mark class=\"background_0\">Kaks</mark> <mark class=\"background_1\">üks</mark> <mark class=\"background_0\">kaks</mark> kolm neli kolm <mark class=\"background_1\">üks</mark> <mark class=\"background_0\">kaks</mark>.</p>\n",
       "\n",
       "\t</body>\n",
       "</html>"
      ],
      "text/plain": [
       "<IPython.core.display.HTML object>"
      ]
     },
     "execution_count": 2,
     "metadata": {},
     "output_type": "execute_result"
    }
   ],
   "source": [
    "event_vocabulary = [{'term': 'üks'}, \n",
    "                    {'term': 'kaks'}]    \n",
    "event_tagger = EventTagger(event_vocabulary, case_sensitive=False, return_layer=True)\n",
    "event_text = EventText('Üks kaks kolm neli kolm. Kaks üks kaks kolm neli kolm üks kaks.', event_tagger=event_tagger)\n",
    "event_sequence = EventSequence(event_text=event_text, classificator='term', time_scale='start')\n",
    "html = event_sequence.pretty_print()\n",
    "HTML(html)"
   ]
  },
  {
   "cell_type": "markdown",
   "metadata": {},
   "source": [
    "frequent serial episodes which consist of words ```üks``` and ```kaks```. Let the width of the Winepi search window be 31 characters and minimal relative frequency of serial episodes be 30%."
   ]
  },
  {
   "cell_type": "code",
   "execution_count": 3,
   "metadata": {
    "collapsed": false
   },
   "outputs": [
    {
     "data": {
      "text/plain": [
       "[85 ('kaks',),\n",
       " 85 ('üks',),\n",
       " 38 ('kaks', 'kaks'),\n",
       " 35 ('kaks', 'üks'),\n",
       " 78 ('üks', 'kaks'),\n",
       " 29 ('kaks', 'üks', 'kaks')]"
      ]
     },
     "execution_count": 3,
     "metadata": {},
     "output_type": "execute_result"
    }
   ],
   "source": [
    "find_sequential_episodes(event_sequence, \n",
    "                         window_width=31, \n",
    "                         min_frequency=0.3, \n",
    "                         only_full_windows=False, \n",
    "                         allow_intermediate_events=True)"
   ]
  },
  {
   "cell_type": "markdown",
   "metadata": {},
   "source": [
    "It turns out that the episode ```('kaks', 'üks', 'kaks')``` appears in 29 Winepi windows. Since the length of the text is 63 characters, the relative frequency of this episode is 29 / (63 + 31 - 1) = 31%. This can also be found using ```rel_support``` method."
   ]
  },
  {
   "cell_type": "code",
   "execution_count": 4,
   "metadata": {
    "collapsed": false
   },
   "outputs": [
    {
     "data": {
      "text/plain": [
       "[0.3118279569892473]"
      ]
     },
     "execution_count": 4,
     "metadata": {},
     "output_type": "execute_result"
    }
   ],
   "source": [
    "rel_support(event_sequence,\n",
    "            Episode(('kaks', 'üks', 'kaks')),\n",
    "            window_width=31, \n",
    "            only_full_windows=False, \n",
    "            allow_intermediate_events=True)"
   ]
  },
  {
   "cell_type": "markdown",
   "metadata": {},
   "source": [
    " Find all instances of that episode."
   ]
  },
  {
   "cell_type": "code",
   "execution_count": 5,
   "metadata": {
    "collapsed": false
   },
   "outputs": [
    {
     "data": {
      "text/html": [
       "<!DOCTYPE html>\n",
       "<html>\n",
       "    <head>\n",
       "        <link rel=\"stylesheet\" type=\"text/css\" href=\"prettyprinter.css\">\n",
       "        <meta charset=\"utf-8\">\n",
       "        <title>PrettyPrinter</title>\n",
       "    </head>\n",
       "    <style>\n",
       "\n",
       "\n",
       "\t\tmark {\n",
       "\t\t\tbackground:none;\n",
       "\t\t}\n",
       "\t\tmark.background_0 {\n",
       "\t\t\tbackground-color: red;\n",
       "\t\t}\n",
       "\t\tmark.background_1 {\n",
       "\t\t\tbackground-color: green;\n",
       "\t\t}\n",
       "\n",
       "    </style>\n",
       "    <body>\n",
       "\n",
       "\t\t<p>Üks <mark class=\"background_0\">kaks</mark> kolm neli kolm. Kaks <mark class=\"background_1\">üks</mark> <mark class=\"background_0\">kaks</mark> kolm neli kolm üks kaks.</p>\n",
       "\t\t<p>Üks kaks kolm neli kolm. <mark class=\"background_0\">Kaks</mark> <mark class=\"background_1\">üks</mark> <mark class=\"background_0\">kaks</mark> kolm neli kolm üks kaks.</p>\n",
       "\t\t<p>Üks kaks kolm neli kolm. Kaks üks <mark class=\"background_0\">kaks</mark> kolm neli kolm <mark class=\"background_1\">üks</mark> <mark class=\"background_0\">kaks</mark>.</p>\n",
       "\n",
       "\t</body>\n",
       "</html>"
      ],
      "text/plain": [
       "<IPython.core.display.HTML object>"
      ]
     },
     "execution_count": 5,
     "metadata": {},
     "output_type": "execute_result"
    }
   ],
   "source": [
    "examples = event_sequence.find_episode_examples(Episode(('kaks','üks', 'kaks')), \n",
    "                                                window_width=31, allow_intermediate_events=True)\n",
    "html = event_sequence.pretty_print(sequence_of_events_generator=examples)\n",
    "HTML(html)"
   ]
  }
 ],
 "metadata": {
  "kernelspec": {
   "display_name": "Python 3",
   "language": "python",
   "name": "python3"
  },
  "language_info": {
   "codemirror_mode": {
    "name": "ipython",
    "version": 3
   },
   "file_extension": ".py",
   "mimetype": "text/x-python",
   "name": "python",
   "nbconvert_exporter": "python",
   "pygments_lexer": "ipython3",
   "version": "3.4.4"
  }
 },
 "nbformat": 4,
 "nbformat_minor": 0
}
