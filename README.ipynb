{
 "cells": [
  {
   "cell_type": "markdown",
   "metadata": {},
   "source": [
    "# episode-miner\n",
    "\n",
    "Provides methods to find events from text based on user defined vocabulary. Stores the result in ```'events'``` layer of ```EventText``` object. Uses Winepi algorithm to find frequent serial episodes in event sequence.\n",
    "\n",
    "## Installation\n",
    "```\n",
    "git clone https://github.com/estnltk/episode-miner.git\n",
    "cd episode-miner\n",
    "pip install . -r requirements.txt\n",
    "```\n",
    "## Usage"
   ]
  },
  {
   "cell_type": "code",
   "execution_count": 1,
   "metadata": {
    "collapsed": false
   },
   "outputs": [],
   "source": [
    "from episode_miner import EventTagger, EventText, EventSequence, collection_of_frequent_episodes\n",
    "from pprint import pprint\n",
    "from IPython.display import HTML"
   ]
  },
  {
   "cell_type": "markdown",
   "metadata": {},
   "source": [
    "In this example we find from the text"
   ]
  },
  {
   "cell_type": "code",
   "execution_count": 2,
   "metadata": {
    "collapsed": false
   },
   "outputs": [
    {
     "data": {
      "text/html": [
       "<!DOCTYPE html>\n",
       "<html>\n",
       "    <head>\n",
       "        <link rel=\"stylesheet\" type=\"text/css\" href=\"prettyprinter.css\">\n",
       "        <meta charset=\"utf-8\">\n",
       "        <title>PrettyPrinter</title>\n",
       "    </head>\n",
       "    <style>\n",
       "\n",
       "\n",
       "\t\tmark {\n",
       "\t\t\tbackground:none;\n",
       "\t\t}\n",
       "\t\tmark.background_0 {\n",
       "\t\t\tbackground-color: red;\n",
       "\t\t}\n",
       "\t\tmark.background_1 {\n",
       "\t\t\tbackground-color: green;\n",
       "\t\t}\n",
       "\n",
       "    </style>\n",
       "    <body>\n",
       "\n",
       "\t\t<p><mark class=\"background_0\">üks</mark> <mark class=\"background_1\">kaks</mark> kolm neli kolm <mark class=\"background_1\">kaks</mark> <mark class=\"background_0\">üks</mark> <mark class=\"background_1\">kaks</mark> kolm neli kolm <mark class=\"background_0\">üks</mark> <mark class=\"background_1\">kaks</mark></p>\n",
       "\n",
       "\t</body>\n",
       "</html>"
      ],
      "text/plain": [
       "<IPython.core.display.HTML object>"
      ]
     },
     "execution_count": 2,
     "metadata": {},
     "output_type": "execute_result"
    }
   ],
   "source": [
    "event_vocabulary = [{'term': 'üks'}, \n",
    "                    {'term': 'kaks'}]    \n",
    "event_tagger = EventTagger(event_vocabulary)\n",
    "event_text = EventText('üks kaks kolm neli kolm kaks üks kaks kolm neli kolm üks kaks', event_tagger=event_tagger)\n",
    "event_sequence = EventSequence(event_text=event_text, classificator='term', time_scale='start')\n",
    "html = event_sequence.pretty_print()\n",
    "HTML(html)"
   ]
  },
  {
   "cell_type": "markdown",
   "metadata": {},
   "source": [
    "frequent serial episodes which consist of words ```üks``` and ```kaks```. Let the width of the Winepi search window be 30 characters and minimal relative frequency of serial episodes be 20%."
   ]
  },
  {
   "cell_type": "code",
   "execution_count": 3,
   "metadata": {
    "collapsed": false
   },
   "outputs": [
    {
     "name": "stdout",
     "output_type": "stream",
     "text": [
      "[83 ('üks',),\n",
      " 83 ('kaks',),\n",
      " 76 ('üks', 'kaks'),\n",
      " 34 ('kaks', 'üks'),\n",
      " 36 ('kaks', 'kaks'),\n",
      " 27 ('kaks', 'üks', 'kaks')]\n"
     ]
    }
   ],
   "source": [
    "frequent_episodes = collection_of_frequent_episodes(event_sequence, 30, 0.3, False, True)\n",
    "pprint(frequent_episodes)"
   ]
  },
  {
   "cell_type": "markdown",
   "metadata": {},
   "source": [
    "It turns out that the episode ```('kaks', 'üks', 'kaks')``` appears in 27 Winepi windows. Since the length of the text is 61 characters, the relative frequency of this episode is 27 / (61 + 30 - 1) = 30%. Find all instances of that episode."
   ]
  },
  {
   "cell_type": "code",
   "execution_count": 4,
   "metadata": {
    "collapsed": false
   },
   "outputs": [
    {
     "data": {
      "text/html": [
       "<!DOCTYPE html>\n",
       "<html>\n",
       "    <head>\n",
       "        <link rel=\"stylesheet\" type=\"text/css\" href=\"prettyprinter.css\">\n",
       "        <meta charset=\"utf-8\">\n",
       "        <title>PrettyPrinter</title>\n",
       "    </head>\n",
       "    <style>\n",
       "\n",
       "\n",
       "\t\tmark {\n",
       "\t\t\tbackground:none;\n",
       "\t\t}\n",
       "\t\tmark.background_0 {\n",
       "\t\t\tbackground-color: red;\n",
       "\t\t}\n",
       "\t\tmark.background_1 {\n",
       "\t\t\tbackground-color: green;\n",
       "\t\t}\n",
       "\n",
       "    </style>\n",
       "    <body>\n",
       "\n",
       "\t\t<p>üks <mark class=\"background_1\">kaks</mark> kolm neli kolm kaks <mark class=\"background_0\">üks</mark> <mark class=\"background_1\">kaks</mark> kolm neli kolm üks kaks</p>\n",
       "\t\t<p>üks kaks kolm neli kolm <mark class=\"background_1\">kaks</mark> <mark class=\"background_0\">üks</mark> <mark class=\"background_1\">kaks</mark> kolm neli kolm üks kaks</p>\n",
       "\t\t<p>üks kaks kolm neli kolm kaks üks <mark class=\"background_1\">kaks</mark> kolm neli kolm <mark class=\"background_0\">üks</mark> <mark class=\"background_1\">kaks</mark></p>\n",
       "\n",
       "\t</body>\n",
       "</html>"
      ],
      "text/plain": [
       "<IPython.core.display.HTML object>"
      ]
     },
     "execution_count": 4,
     "metadata": {},
     "output_type": "execute_result"
    }
   ],
   "source": [
    "examples = event_sequence.find_episode_examples(('kaks','üks', 'kaks'), 30)\n",
    "html = event_sequence.pretty_print(sequence_of_events_generator=examples)\n",
    "HTML(html)"
   ]
  },
  {
   "cell_type": "markdown",
   "metadata": {},
   "source": [
    "For futher details see [docs](docs)."
   ]
  }
 ],
 "metadata": {
  "kernelspec": {
   "display_name": "Python 3",
   "language": "python",
   "name": "python3"
  },
  "language_info": {
   "codemirror_mode": {
    "name": "ipython",
    "version": 3
   },
   "file_extension": ".py",
   "mimetype": "text/x-python",
   "name": "python",
   "nbconvert_exporter": "python",
   "pygments_lexer": "ipython3",
   "version": "3.4.4"
  }
 },
 "nbformat": 4,
 "nbformat_minor": 0
}
