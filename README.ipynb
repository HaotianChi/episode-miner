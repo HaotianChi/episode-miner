{
 "cells": [
  {
   "cell_type": "markdown",
   "metadata": {},
   "source": [
    "# episode-miner\n",
    "\n",
    "Provides methods to find events from text based on user defined vocabulary. Stores the result in ```'events'``` layer of ```EventText``` object. Uses Winepi algorithm to find frequent serial episodes in event sequence.\n",
    "\n",
    "## Installation\n",
    "```bash\n",
    "git clone https://github.com/estnltk/episode-miner.git\n",
    "cd episode-miner\n",
    "python setup.py install\n",
    "\n",
    "# or pre-install requieremets separately: \n",
    "pip install -r requirements.txt\n",
    "```\n",
    "## Usage\n",
    "For details see the [docs](docs).\n",
    "### Quick example\n",
    "Find frequent episodes from text."
   ]
  },
  {
   "cell_type": "code",
   "execution_count": 5,
   "metadata": {
    "collapsed": false
   },
   "outputs": [
    {
     "data": {
      "text/plain": [
       "[('kaks'),\n",
       " ('üks'),\n",
       " ('kaks', 'kaks'),\n",
       " ('kaks', 'üks'),\n",
       " ('üks', 'kaks'),\n",
       " ('kaks', 'üks', 'kaks')]"
      ]
     },
     "execution_count": 5,
     "metadata": {},
     "output_type": "execute_result"
    }
   ],
   "source": [
    "from estnltk.taggers import EventTagger\n",
    "from episode_miner import EventText, EventSequences, Episode, Episodes\n",
    "\n",
    "event_vocabulary = [{'term': 'üks'}, \n",
    "                    {'term': 'kaks'}]    \n",
    "event_tagger = EventTagger(event_vocabulary, case_sensitive=False, return_layer=True)\n",
    "event_text = EventText('Üks kaks kolm neli kolm. Kaks üks kaks kolm neli kolm üks kaks.', \n",
    "                       event_tagger=event_tagger)\n",
    "event_sequences = EventSequences(event_texts=[event_text], \n",
    "                                 classificator='term', \n",
    "                                 time_scale='start')\n",
    "frequent_episodes = event_sequences.find_serial_episodes(window_width=31, \n",
    "                                                         min_frequency=0.3, \n",
    "                                                         only_full_windows=False, \n",
    "                                                         allow_intermediate_events=True)\n",
    "frequent_episodes"
   ]
  }
 ],
 "metadata": {
  "anaconda-cloud": {},
  "kernelspec": {
   "display_name": "Python [default]",
   "language": "python",
   "name": "python3"
  },
  "language_info": {
   "codemirror_mode": {
    "name": "ipython",
    "version": 3
   },
   "file_extension": ".py",
   "mimetype": "text/x-python",
   "name": "python",
   "nbconvert_exporter": "python",
   "pygments_lexer": "ipython3",
   "version": "3.5.0"
  }
 },
 "nbformat": 4,
 "nbformat_minor": 0
}
