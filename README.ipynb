{
 "cells": [
  {
   "cell_type": "markdown",
   "metadata": {},
   "source": [
    "# episode-miner\n",
    "\n",
    "Provides methods to find events from Estnltk's Text object based on user defined vocabulary. Stores the results in  'events' layer of Text object. Uses WinEpi algorithm to find frequent serial episodes in event sequence.\n",
    "\n",
    "## Installation\n",
    "```\n",
    "git clone https://github.com/estnltk/episode-miner.git\n",
    "cd episode-miner\n",
    "pip install . -r requirements.txt\n",
    "```\n",
    "## Usage\n",
    "...\n",
    "\n",
    "## [EventText](docs/EventText.ipynb)\n",
    "\n",
    "A subclass of **Text** containing 'events' layer.\n",
    "\n",
    "## [EventTagger](docs/EventTagger.ipynb)\n",
    "\n",
    "A class that provides a method for **EventText** to create 'events' layer.\n",
    "\n",
    "## [Winepi](docs/Winepi.ipynb)\n",
    "\n",
    "A partial implementation of Winepi algorithm described by Mannila, Toivonen and Verkamo in *Discovery of Frequent Episodes in Event Sequences*, 1997."
   ]
  }
 ],
 "metadata": {
  "kernelspec": {
   "display_name": "Python 3",
   "language": "python",
   "name": "python3"
  },
  "language_info": {
   "codemirror_mode": {
    "name": "ipython",
    "version": 3
   },
   "file_extension": ".py",
   "mimetype": "text/x-python",
   "name": "python",
   "nbconvert_exporter": "python",
   "pygments_lexer": "ipython3",
   "version": "3.4.4"
  }
 },
 "nbformat": 4,
 "nbformat_minor": 0
}
