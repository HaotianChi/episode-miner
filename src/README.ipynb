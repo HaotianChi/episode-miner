{
 "cells": [
  {
   "cell_type": "markdown",
   "metadata": {
    "collapsed": false
   },
   "source": [
    "# EventText\n",
    "A subclass of **Text** containing 'events' layer.\n",
    "# EventTagger\n",
    "A class that provides a method for **EventText** to create 'events' layer.\n",
    "## Requirements\n",
    "pyahocorasick\n",
    "## Usage\n",
    "Create file *data/event vocabulary.csv* in *pandas* standard *csv* format:"
   ]
  },
  {
   "cell_type": "markdown",
   "metadata": {},
   "source": [
    "term,value,type<br />\n",
    "Väga sage,sage,sagedus<br />\n",
    "Sage,sage,sagedus<br />\n",
    "Harv,harv,sagedus<br />\n",
    "peavalu,peavalu,sümptom<br />\n",
    "kõhukinnisus,kõhukinnisus,sümptom<br />\n",
    "iiveldus,iiveldus,sümptom<br />\n",
    "\\*gap\\*,\\*gap\\*,\\*gap\\*"
   ]
  },
  {
   "cell_type": "markdown",
   "metadata": {},
   "source": [
    "There must be one column with header **term**. That column contains the strings searched from the text. Other columns are optional. One term may not be a substring of other term.\n",
    "\n",
    "If there is a word in sense of Estnltk between consecutive terms, then the substring between these two terms is a **\\*gap\\***. If **consider_gaps=True** in **EventTagger** constructor, there must be a **term** named **\\*gap\\*** in the table. In this case **\\*gap\\*** events are created.\n",
    "\n",
    "Create **EventTagger** object, **EventText** objects and *'events'* layers for **EventText** objects."
   ]
  },
  {
   "cell_type": "code",
   "execution_count": 1,
   "metadata": {
    "collapsed": false,
    "scrolled": true
   },
   "outputs": [
    {
     "name": "stdout",
     "output_type": "stream",
     "text": [
      "Väga sage 0 1\n",
      "kõhukinnisus 1 2\n",
      "*gap* 2 3\n",
      "Sage 3 4\n",
      "peavalu 4 5\n",
      "*gap* 5 6\n",
      "Harv 6 7\n",
      "iiveldus 7 8\n",
      "*gap* 8 13\n"
     ]
    }
   ],
   "source": [
    "from EventText.EventText import EventText, EventTagger\n",
    "from Winepi.Winepi import collection_of_frequent_episodes_new\n",
    "\n",
    "event_tagger = EventTagger('/home/paul/workspace/MyTestProject/src/data/event vocabulary.csv', consider_gaps=True)\n",
    "\n",
    "strings = ('Väga sage kõhukinnisus. Sage peavalu. Harv iiveldus. Väga harv minestus.',\n",
    "           'Harv kõrvaltoime sellel ravimil on peavalu.')\n",
    "\n",
    "event_texts = []\n",
    "for string in strings:\n",
    "    event_texts.append(EventText(string, event_tagger=event_tagger))\n",
    "\n",
    "for event_text in event_texts:\n",
    "    event_text.events()\n",
    "\n",
    "for event in event_texts[0]['events']:\n",
    "    print(event['term'], event['wstart'], event['wend'])"
   ]
  },
  {
   "cell_type": "markdown",
   "metadata": {},
   "source": [
    "The word start 'wstart', word end 'wend', char start 'cstart', char end 'cend' are calculated as if all the events, except the special event **\\*gap\\***, consist of one char having char length and word length equal 1.\n",
    "\n",
    "The **event_sequence** method extracts from 'events' layer event sequence for Winepi algorithm."
   ]
  },
  {
   "cell_type": "code",
   "execution_count": 2,
   "metadata": {
    "collapsed": false
   },
   "outputs": [
    {
     "name": "stdout",
     "output_type": "stream",
     "text": [
      "0 13\n",
      "sagedus 0\n",
      "sümptom 1\n",
      "*gap* 2\n",
      "sagedus 3\n",
      "sümptom 4\n",
      "*gap* 5\n",
      "sagedus 6\n",
      "sümptom 7\n",
      "*gap* 8\n"
     ]
    }
   ],
   "source": [
    "event_sequences = []\n",
    "for event_text in event_texts:\n",
    "    event_sequences.append (event_text.event_sequence(count_event_time_by='word', classificator='type'))\n",
    "\n",
    "print(event_sequences[0].start, event_sequences[0].end)\n",
    "for es in event_sequences[0].sequence_of_events:\n",
    "    print(es.event_type, es.event_time)"
   ]
  },
  {
   "cell_type": "markdown",
   "metadata": {},
   "source": [
    "# Winepi\n",
    "A partial implementation of Winepi algorithm described by Mannila, Toivonen and Verkamo in *Discovery of Frequent Episodes in Event Sequences*, 1997."
   ]
  },
  {
   "cell_type": "code",
   "execution_count": 3,
   "metadata": {
    "collapsed": false
   },
   "outputs": [
    {
     "name": "stdout",
     "output_type": "stream",
     "text": [
      "0.5714285714285714 16 ('sagedus',)\n",
      "0.5714285714285714 16 ('sümptom',)\n",
      "0.14285714285714285 4 ('sagedus', 'sagedus')\n",
      "0.35714285714285715 10 ('sagedus', 'sümptom')\n",
      "0.21428571428571427 6 ('sümptom', 'sagedus')\n",
      "0.14285714285714285 4 ('sümptom', 'sümptom')\n",
      "0.07142857142857142 2 ('sagedus', 'sagedus', 'sümptom')\n",
      "0.14285714285714285 4 ('sagedus', 'sümptom', 'sagedus')\n",
      "0.07142857142857142 2 ('sagedus', 'sümptom', 'sümptom')\n",
      "0.14285714285714285 4 ('sümptom', 'sagedus', 'sümptom')\n",
      "0.07142857142857142 2 ('sagedus', 'sümptom', 'sagedus', 'sümptom')\n"
     ]
    }
   ],
   "source": [
    "window_width = 5\n",
    "min_frequency = 0.01\n",
    "number_of_examples = 0\n",
    "\n",
    "frequent_episodes, examples = collection_of_frequent_episodes_new(event_sequences, \n",
    "                                                                  window_width, \n",
    "                                                                  min_frequency, \n",
    "                                                                  only_full_windows=False, \n",
    "                                                                  gaps_skipping=True, \n",
    "                                                                  number_of_examples = number_of_examples)\n",
    "\n",
    "for episode in frequent_episodes:\n",
    "    print(episode.relative_frequency, episode.freq_count, episode)"
   ]
  }
 ],
 "metadata": {
  "kernelspec": {
   "display_name": "Python 3",
   "language": "python",
   "name": "python3"
  },
  "language_info": {
   "codemirror_mode": {
    "name": "ipython",
    "version": 3
   },
   "file_extension": ".py",
   "mimetype": "text/x-python",
   "name": "python",
   "nbconvert_exporter": "python",
   "pygments_lexer": "ipython3",
   "version": "3.5.1"
  }
 },
 "nbformat": 4,
 "nbformat_minor": 0
}
