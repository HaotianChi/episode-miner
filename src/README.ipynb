{
 "cells": [
  {
   "cell_type": "markdown",
   "metadata": {
    "collapsed": false
   },
   "source": [
    "# EventText\n",
    "A subclass of **Text** containing 'events' layer.\n",
    "# EventTagger\n",
    "A class that provides a method for **EventText** to create 'events' layer.\n",
    "## Usage\n",
    "Create file *data/event vocabulary.csv* in *pandas* standard *csv* format:"
   ]
  },
  {
   "cell_type": "raw",
   "metadata": {},
   "source": [
    "term,value,type\n",
    "Väga sage,sage,sagedus\n",
    "Sage,sage,sagedus\n",
    "Harv,harv,sagedus\n",
    "peavalu,peavalu,sümptom\n",
    "kõhukinnisus,kõhukinnisus,sümptom\n",
    "iiveldus,iiveldus,sümptom\n",
    "*gap*,*gap*,*gap*"
   ]
  },
  {
   "cell_type": "markdown",
   "metadata": {},
   "source": [
    "There must be one column with header **term**. That column contains the strings searched from the text. Other columns are optional. \n",
    "\n",
    "If there is a word in sense of Estnltk between consecutive terms, then the substring between these two terms is a **\\*gap\\***. If **consider_gaps=True** in **EventTagger** constructor, there must be a **term** named **\\*gap\\*** in the table. In this case **\\*gap\\*** events are created.\n",
    "\n",
    "Create **EventTagger** object, **EventText** objects and *'events'* layers for **EventText** objects."
   ]
  },
  {
   "cell_type": "code",
   "execution_count": 1,
   "metadata": {
    "collapsed": false
   },
   "outputs": [
    {
     "name": "stdout",
     "output_type": "stream",
     "text": [
      "{'start': 0, 'type': 'sagedus', 'term': 'Väga sage', 'wstart': 0, 'wend': 1, 'value': 'sage', 'end': 9}\n",
      "{'start': 10, 'type': 'sümptom', 'term': 'kõhukinnisus', 'wstart': 1, 'wend': 2, 'value': 'kõhukinnisus', 'end': 22}\n",
      "{'start': 22, 'type': '*gap*', 'term': '*gap*', 'wstart': 2, 'end': 24, 'value': '*gap*', 'wend': 3}\n",
      "{'start': 24, 'type': 'sagedus', 'term': 'Sage', 'wstart': 3, 'wend': 4, 'value': 'sage', 'end': 28}\n",
      "{'start': 29, 'type': 'sümptom', 'term': 'peavalu', 'wstart': 4, 'wend': 5, 'value': 'peavalu', 'end': 36}\n",
      "{'start': 36, 'type': '*gap*', 'term': '*gap*', 'wstart': 5, 'end': 38, 'value': '*gap*', 'wend': 6}\n",
      "{'start': 38, 'type': 'sagedus', 'term': 'Harv', 'wstart': 6, 'wend': 7, 'value': 'harv', 'end': 42}\n",
      "{'start': 43, 'type': 'sümptom', 'term': 'iiveldus', 'wstart': 7, 'wend': 8, 'value': 'iiveldus', 'end': 51}\n",
      "{'start': 51, 'type': '*gap*', 'term': '*gap*', 'wstart': 8, 'end': 72, 'value': '*gap*', 'wend': 14}\n"
     ]
    }
   ],
   "source": [
    "from EventText.EventText import EventText, EventTagger\n",
    "\n",
    "event_tagger = EventTagger('data/event vocabulary.csv', consider_gaps=True)\n",
    "\n",
    "t1 = EventText('Väga sage kõhukinnisus. Sage peavalu. Harv iiveldus. Väga harv minestus.', event_tagger = event_tagger)\n",
    "t2 = EventText('Harv kõrvaltoime sellel ravimil on peavalu.', event_tagger = event_tagger)\n",
    "\n",
    "t1.events()\n",
    "t2.events()\n",
    "\n",
    "for event in t1['events']:\n",
    "    print(event)"
   ]
  },
  {
   "cell_type": "markdown",
   "metadata": {},
   "source": [
    "The word start 'wstart', word end 'wend', char start 'cstart', char end 'cend' are calculated as if all the events, except the special event **\\*gap\\***, consist of one char having char length and word length equal 1."
   ]
  }
 ],
 "metadata": {
  "kernelspec": {
   "display_name": "Python 3",
   "language": "python",
   "name": "python3"
  },
  "language_info": {
   "codemirror_mode": {
    "name": "ipython",
    "version": 3
   },
   "file_extension": ".py",
   "mimetype": "text/x-python",
   "name": "python",
   "nbconvert_exporter": "python",
   "pygments_lexer": "ipython3",
   "version": "3.5.1"
  }
 },
 "nbformat": 4,
 "nbformat_minor": 0
}
